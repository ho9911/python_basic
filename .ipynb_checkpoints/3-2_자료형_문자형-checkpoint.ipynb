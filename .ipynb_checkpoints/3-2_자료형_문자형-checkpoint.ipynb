{
 "cells": [
  {
   "cell_type": "markdown",
   "id": "f7abf0bd-4b28-45a2-b41f-65381de653f3",
   "metadata": {},
   "source": [
    "## 3-2_자료형_문자열"
   ]
  },
  {
   "cell_type": "code",
   "execution_count": 3,
   "id": "b853a618-baf4-4e8d-ad96-7e4125c73f96",
   "metadata": {},
   "outputs": [
    {
     "name": "stdout",
     "output_type": "stream",
     "text": [
      "phython's favorite food is perl\n",
      "<class 'str'>\n"
     ]
    }
   ],
   "source": [
    "food = \"phython's favorite food is perl\"\n",
    "print(food)\n",
    "print(type(food))"
   ]
  },
  {
   "cell_type": "code",
   "execution_count": 5,
   "id": "07cdcc65-0ee3-4b21-a388-ac3b687a3267",
   "metadata": {},
   "outputs": [
    {
     "name": "stdout",
     "output_type": "stream",
     "text": [
      "phython's favorite food is perl\n",
      "<class 'str'>\n"
     ]
    }
   ],
   "source": [
    "food = 'phython\\'s favorite food is perl'\n",
    "print(food)\n",
    "print(type(food))"
   ]
  },
  {
   "cell_type": "code",
   "execution_count": 9,
   "id": "1c73c650-5e0a-452b-bd86-28d86e73b107",
   "metadata": {},
   "outputs": [
    {
     "data": {
      "text/plain": [
       "'\"python is very esay\"he says'"
      ]
     },
     "execution_count": 9,
     "metadata": {},
     "output_type": "execute_result"
    }
   ],
   "source": [
    "say= '\"python is very esay\"he says'\n",
    "say"
   ]
  },
  {
   "cell_type": "markdown",
   "id": "68fe764f-c74c-4778-ba7d-9fd28e07cfef",
   "metadata": {},
   "source": [
    "### 여러줄 문자열"
   ]
  },
  {
   "cell_type": "code",
   "execution_count": 13,
   "id": "eadbefd8-f7e4-44a5-8786-7e7f73433348",
   "metadata": {},
   "outputs": [
    {
     "name": "stdout",
     "output_type": "stream",
     "text": [
      "life is too short\n",
      "you need python\n"
     ]
    }
   ],
   "source": [
    "multiline = \"life is too short\\nyou need python\"\n",
    "print(multiline)"
   ]
  },
  {
   "cell_type": "code",
   "execution_count": 14,
   "id": "a192f0d7-b9a9-4f88-ace0-ab654dd6b5f7",
   "metadata": {},
   "outputs": [
    {
     "name": "stdout",
     "output_type": "stream",
     "text": [
      "life is too short\n",
      "you need python\n"
     ]
    }
   ],
   "source": [
    "multiline = \"\"\"life is too short\n",
    "you need python\"\"\"\n",
    "print(multiline)"
   ]
  },
  {
   "cell_type": "code",
   "execution_count": 17,
   "id": "3ab77ebd-cf93-49fe-9895-8d664fc32528",
   "metadata": {},
   "outputs": [
    {
     "name": "stdout",
     "output_type": "stream",
     "text": [
      "life is too short\n",
      "you need python\n"
     ]
    }
   ],
   "source": [
    "multiline = '''life is too short\n",
    "you need python'''\n",
    "print(multiline)"
   ]
  },
  {
   "cell_type": "code",
   "execution_count": 18,
   "id": "317b20c1-43be-48d2-9340-c89ba1a45288",
   "metadata": {},
   "outputs": [
    {
     "data": {
      "text/plain": [
       "'headbodytail'"
      ]
     },
     "execution_count": 18,
     "metadata": {},
     "output_type": "execute_result"
    }
   ],
   "source": [
    "head = \"head\"\n",
    "tail = \"tail\"\n",
    "body = \"body\"\n",
    "head+body+tail"
   ]
  },
  {
   "cell_type": "code",
   "execution_count": 19,
   "id": "b88f9cfd-dfa1-4ad5-902e-bdb478c30c35",
   "metadata": {},
   "outputs": [
    {
     "data": {
      "text/plain": [
       "'headhead'"
      ]
     },
     "execution_count": 19,
     "metadata": {},
     "output_type": "execute_result"
    }
   ],
   "source": [
    "head*2"
   ]
  },
  {
   "cell_type": "code",
   "execution_count": 21,
   "id": "bfaebc81-10a8-46d5-80b0-bd1e53f3f74f",
   "metadata": {},
   "outputs": [
    {
     "name": "stdout",
     "output_type": "stream",
     "text": [
      "pythonpython\n",
      "pythonpythonpython\n"
     ]
    }
   ],
   "source": [
    " a=\"python\"\n",
    "print(a*2)\n",
    "print(a*3)"
   ]
  },
  {
   "cell_type": "code",
   "execution_count": 24,
   "id": "320e9de7-55e6-4ea1-8aad-e6192e188bcd",
   "metadata": {},
   "outputs": [
    {
     "name": "stdout",
     "output_type": "stream",
     "text": [
      "====================\n",
      "pythonpython\n",
      "pythonpythonpython\n",
      "====================\n"
     ]
    }
   ],
   "source": [
    "print(\"=\"*20)\n",
    "print(a*2)\n",
    "print(a*3)\n",
    "print(\"=\"*20)"
   ]
  },
  {
   "cell_type": "code",
   "execution_count": 36,
   "id": "f2321785-c234-49b2-8f0d-169a4c400e73",
   "metadata": {},
   "outputs": [
    {
     "data": {
      "text/plain": [
       "34"
      ]
     },
     "execution_count": 36,
     "metadata": {},
     "output_type": "execute_result"
    }
   ],
   "source": [
    "a= \"Life is too short, You need Python\"\n",
    "len(a)"
   ]
  },
  {
   "cell_type": "markdown",
   "id": "2c2d7e2f-aaea-4575-90b3-81a01fd9fa4d",
   "metadata": {},
   "source": [
    "## 문자열 인덱싱"
   ]
  },
  {
   "cell_type": "code",
   "execution_count": 26,
   "id": "d9ee1f10-7633-49e4-912e-dc04f878556d",
   "metadata": {},
   "outputs": [
    {
     "data": {
      "text/plain": [
       "'l'"
      ]
     },
     "execution_count": 26,
     "metadata": {},
     "output_type": "execute_result"
    }
   ],
   "source": [
    "a [0]"
   ]
  },
  {
   "cell_type": "code",
   "execution_count": 27,
   "id": "dde425a0-53b3-4b2d-9a0c-0579a6c5c4f9",
   "metadata": {},
   "outputs": [
    {
     "data": {
      "text/plain": [
       "'i'"
      ]
     },
     "execution_count": 27,
     "metadata": {},
     "output_type": "execute_result"
    }
   ],
   "source": [
    "a [5]"
   ]
  },
  {
   "cell_type": "code",
   "execution_count": 28,
   "id": "4eda84b3-59dc-4231-9bce-c36379d69903",
   "metadata": {},
   "outputs": [
    {
     "data": {
      "text/plain": [
       "'t'"
      ]
     },
     "execution_count": 28,
     "metadata": {},
     "output_type": "execute_result"
    }
   ],
   "source": [
    "a[-1] # 뒤에서부터 찾기"
   ]
  },
  {
   "cell_type": "code",
   "execution_count": 31,
   "id": "8437568a-6f50-46f2-b587-0c13f8d6abd0",
   "metadata": {},
   "outputs": [
    {
     "name": "stdout",
     "output_type": "stream",
     "text": [
      "lie\n"
     ]
    }
   ],
   "source": [
    "b= a[0] + a[1] + a[3]\n",
    "print(b)"
   ]
  },
  {
   "cell_type": "code",
   "execution_count": 32,
   "id": "a6b38d6f-cc72-4faf-9ed0-5017584cad23",
   "metadata": {},
   "outputs": [
    {
     "data": {
      "text/plain": [
       "'life'"
      ]
     },
     "execution_count": 32,
     "metadata": {},
     "output_type": "execute_result"
    }
   ],
   "source": [
    "a[0:4]"
   ]
  },
  {
   "cell_type": "code",
   "execution_count": 33,
   "id": "2115bbfb-1ae2-4eca-9d8f-25541aa8dc68",
   "metadata": {},
   "outputs": [
    {
     "data": {
      "text/plain": [
       "'short'"
      ]
     },
     "execution_count": 33,
     "metadata": {},
     "output_type": "execute_result"
    }
   ],
   "source": [
    "a[12:17]"
   ]
  },
  {
   "cell_type": "code",
   "execution_count": 37,
   "id": "24481ce4-5c6e-4116-9ca3-be72c1f60962",
   "metadata": {},
   "outputs": [
    {
     "data": {
      "text/plain": [
       "'need'"
      ]
     },
     "execution_count": 37,
     "metadata": {},
     "output_type": "execute_result"
    }
   ],
   "source": [
    "a[23:27]"
   ]
  },
  {
   "cell_type": "code",
   "execution_count": 38,
   "id": "8a0ec13b-8f4d-414b-9d81-c5db07e475d9",
   "metadata": {},
   "outputs": [
    {
     "data": {
      "text/plain": [
       "', You need Python'"
      ]
     },
     "execution_count": 38,
     "metadata": {},
     "output_type": "execute_result"
    }
   ],
   "source": [
    "a[17:]"
   ]
  },
  {
   "cell_type": "code",
   "execution_count": 39,
   "id": "f47b308e-aa26-43a1-adc8-1104ce257e02",
   "metadata": {},
   "outputs": [
    {
     "data": {
      "text/plain": [
       "'Life is too short'"
      ]
     },
     "execution_count": 39,
     "metadata": {},
     "output_type": "execute_result"
    }
   ],
   "source": [
    "a[:17]"
   ]
  },
  {
   "cell_type": "code",
   "execution_count": 40,
   "id": "281378be-b647-476e-822a-70748d07ad99",
   "metadata": {},
   "outputs": [
    {
     "data": {
      "text/plain": [
       "', You need'"
      ]
     },
     "execution_count": 40,
     "metadata": {},
     "output_type": "execute_result"
    }
   ],
   "source": [
    "a[17:-7] #-는뒤에서부터"
   ]
  },
  {
   "cell_type": "code",
   "execution_count": 41,
   "id": "72123d60-a65b-4f71-9fed-cd1c9d126f1a",
   "metadata": {},
   "outputs": [
    {
     "name": "stdout",
     "output_type": "stream",
     "text": [
      "<class 'str'>\n"
     ]
    }
   ],
   "source": [
    "a = \"123\"\n",
    "print(type(a))"
   ]
  },
  {
   "cell_type": "code",
   "execution_count": 43,
   "id": "cd788af9-1af5-4308-b60f-dd77d731bcbe",
   "metadata": {},
   "outputs": [
    {
     "ename": "TypeError",
     "evalue": "unsupported operand type(s) for /: 'str' and 'str'",
     "output_type": "error",
     "traceback": [
      "\u001b[1;31m---------------------------------------------------------------------------\u001b[0m",
      "\u001b[1;31mTypeError\u001b[0m                                 Traceback (most recent call last)",
      "Cell \u001b[1;32mIn[43], line 2\u001b[0m\n\u001b[0;32m      1\u001b[0m b\u001b[38;5;241m=\u001b[39m \u001b[38;5;124m\"\u001b[39m\u001b[38;5;124m10\u001b[39m\u001b[38;5;124m\"\u001b[39m\n\u001b[1;32m----> 2\u001b[0m a\u001b[38;5;241m/\u001b[39mb\n",
      "\u001b[1;31mTypeError\u001b[0m: unsupported operand type(s) for /: 'str' and 'str'"
     ]
    }
   ],
   "source": [
    "b= \"10\"\n",
    "a/b #문자라서 나눠지지않음"
   ]
  },
  {
   "cell_type": "code",
   "execution_count": 44,
   "id": "ff290c8a-ffb0-4779-bfa2-97cdf39aa506",
   "metadata": {},
   "outputs": [
    {
     "data": {
      "text/plain": [
       "2.0"
      ]
     },
     "execution_count": 44,
     "metadata": {},
     "output_type": "execute_result"
    }
   ],
   "source": [
    "float(2)     # 실수형 변환"
   ]
  },
  {
   "cell_type": "code",
   "execution_count": 53,
   "id": "452f0302-f7db-43f6-9783-d8602c85afc6",
   "metadata": {},
   "outputs": [
    {
     "data": {
      "text/plain": [
       "2"
      ]
     },
     "execution_count": 53,
     "metadata": {},
     "output_type": "execute_result"
    }
   ],
   "source": [
    "int(2.07)"
   ]
  },
  {
   "cell_type": "code",
   "execution_count": null,
   "id": "6bc11c13-5431-40e6-be2f-b6ac89e076b3",
   "metadata": {},
   "outputs": [],
   "source": []
  }
 ],
 "metadata": {
  "kernelspec": {
   "display_name": "Python [conda env:base] *",
   "language": "python",
   "name": "conda-base-py"
  },
  "language_info": {
   "codemirror_mode": {
    "name": "ipython",
    "version": 3
   },
   "file_extension": ".py",
   "mimetype": "text/x-python",
   "name": "python",
   "nbconvert_exporter": "python",
   "pygments_lexer": "ipython3",
   "version": "3.13.5"
  }
 },
 "nbformat": 4,
 "nbformat_minor": 5
}
