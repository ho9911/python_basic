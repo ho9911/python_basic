{
 "cells": [
  {
   "cell_type": "markdown",
   "id": "ed6cdc64-c77e-48c5-9ceb-8dcf27f42ac4",
   "metadata": {},
   "source": [
    "## 1. if문의 기본 구조"
   ]
  },
  {
   "cell_type": "code",
   "execution_count": 3,
   "id": "3c6d68f6-164e-45cd-b462-0e63d6fb94e6",
   "metadata": {},
   "outputs": [
    {
     "name": "stdout",
     "output_type": "stream",
     "text": [
      "택시를\n",
      "타고\n",
      "가라\n"
     ]
    }
   ],
   "source": [
    "money = True\n",
    "if money:\n",
    "    print(\"택시를\")\n",
    "    print(\"타고\")\n",
    "    print(\"가라\")\n"
   ]
  },
  {
   "cell_type": "code",
   "execution_count": 5,
   "id": "b5b564a8-7583-49d7-b15d-7eb15b9e4a4e",
   "metadata": {},
   "outputs": [
    {
     "name": "stdout",
     "output_type": "stream",
     "text": [
      "걸어가라\n"
     ]
    }
   ],
   "source": [
    "money =2000\n",
    "if money>=3000:\n",
    "    print(\"택시타고가라\")\n",
    "else:\n",
    "    print(\"걸어가라\")"
   ]
  },
  {
   "cell_type": "code",
   "execution_count": 6,
   "id": "66425137-e61a-4f2a-827a-6c3cb45c3fa4",
   "metadata": {},
   "outputs": [],
   "source": [
    "# 논리 연산자\n",
    "# 조건식 x,y 가 있을때 and연산자는 둘다 True일떄 true \n",
    "#                      or 하나만 True 이면 True\n",
    "#                     not x가 False 이면  True \n"
   ]
  },
  {
   "cell_type": "code",
   "execution_count": 7,
   "id": "3964fd89-2acf-4b39-9ab2-9fb293441654",
   "metadata": {},
   "outputs": [
    {
     "name": "stdout",
     "output_type": "stream",
     "text": [
      "택시타고가라\n"
     ]
    }
   ],
   "source": [
    "money =2000\n",
    "card = True\n",
    "if money>=3000 or card:\n",
    "    print(\"택시타고가라\")\n",
    "else:\n",
    "    print(\"걸어가라\")"
   ]
  },
  {
   "cell_type": "code",
   "execution_count": 8,
   "id": "4675a86d-fcd5-41ba-aa40-3f85121bd34f",
   "metadata": {},
   "outputs": [
    {
     "data": {
      "text/plain": [
       "True"
      ]
     },
     "execution_count": 8,
     "metadata": {},
     "output_type": "execute_result"
    }
   ],
   "source": [
    "# in, not in\n",
    "1 in [1,2,3]"
   ]
  },
  {
   "cell_type": "code",
   "execution_count": 9,
   "id": "952cf0a7-eb6d-4c18-a3f5-50b7ef8b4466",
   "metadata": {},
   "outputs": [
    {
     "data": {
      "text/plain": [
       "False"
      ]
     },
     "execution_count": 9,
     "metadata": {},
     "output_type": "execute_result"
    }
   ],
   "source": [
    "1 not in [1,2,3]"
   ]
  },
  {
   "cell_type": "code",
   "execution_count": 12,
   "id": "b62e0ca8-7bc1-4a20-a2af-93450f016fcd",
   "metadata": {},
   "outputs": [
    {
     "name": "stdout",
     "output_type": "stream",
     "text": [
      "택시를 타고 가라\n"
     ]
    }
   ],
   "source": [
    "pocket = ['paper','cellphone', 'money']\n",
    "\n",
    "if 'money' in pocket:\n",
    "    print('택시를 타고 가라')\n",
    "else:\n",
    "    print('걸어가라')"
   ]
  },
  {
   "cell_type": "code",
   "execution_count": 14,
   "id": "d4fef576-0d0a-49b5-b6f2-64e530d08ee8",
   "metadata": {},
   "outputs": [],
   "source": [
    "# pass : 실행문을 실행하지 않고 넘어가기\n",
    "pocket = ['paper','cellphone', 'money']\n",
    "\n",
    "if 'money' in pocket:\n",
    "    pass\n",
    "else:\n",
    "    print('카드를 꺼내라')"
   ]
  },
  {
   "cell_type": "markdown",
   "id": "002a2bcc-8974-444f-bf7f-14a9ad0fe605",
   "metadata": {},
   "source": [
    "## 3. 다양한 조건을 판단하는 elif"
   ]
  },
  {
   "cell_type": "code",
   "execution_count": 15,
   "id": "654ed1b1-e169-40e8-b9d4-24ff67c196a8",
   "metadata": {},
   "outputs": [
    {
     "name": "stdout",
     "output_type": "stream",
     "text": [
      "택시를 타고 가라\n"
     ]
    }
   ],
   "source": [
    "# if ,else 만으로 표현\n",
    "pocket = ['paper', 'cellphone']\n",
    "card = True\n",
    "\n",
    "if 'money' in pocket:\n",
    "    print(\"택시를 타고 가라\")\n",
    "else:\n",
    "    if card:\n",
    "        print(\"택시를 타고 가라\")\n",
    "    else:\n",
    "        print(\"걸어가라\")"
   ]
  },
  {
   "cell_type": "code",
   "execution_count": null,
   "id": "4d740475-6575-451d-b6f1-e484374411e4",
   "metadata": {},
   "outputs": [],
   "source": [
    "# elif 사용\n",
    "pocket = ['paper', 'cellphone']\n",
    "card = True\n",
    "\n",
    "if 'money' in pocket:\n",
    "    print(\"택시를 타고 가라\")\n",
    "elif card:\n",
    "    print(\"카드로 택시를 타고 가라\")\n",
    "else:\n",
    "    print(\"걸어가라\")"
   ]
  }
 ],
 "metadata": {
  "kernelspec": {
   "display_name": "Python [conda env:base] *",
   "language": "python",
   "name": "conda-base-py"
  },
  "language_info": {
   "codemirror_mode": {
    "name": "ipython",
    "version": 3
   },
   "file_extension": ".py",
   "mimetype": "text/x-python",
   "name": "python",
   "nbconvert_exporter": "python",
   "pygments_lexer": "ipython3",
   "version": "3.13.5"
  }
 },
 "nbformat": 4,
 "nbformat_minor": 5
}
