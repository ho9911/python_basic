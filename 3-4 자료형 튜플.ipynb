{
 "cells": [
  {
   "cell_type": "markdown",
   "id": "3aa40b62-e1c2-41b0-b841-c1a0f1616323",
   "metadata": {},
   "source": [
    "# 2. 튜플의 요소값을 지우거나 변경하려고 하면 어떻게 될까?"
   ]
  },
  {
   "cell_type": "code",
   "execution_count": 1,
   "id": "22c02d3d-fb7a-4490-a664-78bd89c1336e",
   "metadata": {},
   "outputs": [
    {
     "ename": "SyntaxError",
     "evalue": "cannot delete function call (960203573.py, line 2)",
     "output_type": "error",
     "traceback": [
      "\u001b[1;36m  Cell \u001b[1;32mIn[1], line 2\u001b[1;36m\u001b[0m\n\u001b[1;33m    del t1(0)\u001b[0m\n\u001b[1;37m        ^\u001b[0m\n\u001b[1;31mSyntaxError\u001b[0m\u001b[1;31m:\u001b[0m cannot delete function call\n"
     ]
    }
   ],
   "source": [
    "t1 = (1,2,'a','b')\n",
    "del t1(0)"
   ]
  },
  {
   "cell_type": "code",
   "execution_count": 2,
   "id": "fc4e85d0-9b8a-4278-b46f-90b2b0d6ba03",
   "metadata": {},
   "outputs": [
    {
     "ename": "SyntaxError",
     "evalue": "cannot assign to function call here. Maybe you meant '==' instead of '='? (134504900.py, line 1)",
     "output_type": "error",
     "traceback": [
      "\u001b[1;36m  Cell \u001b[1;32mIn[2], line 1\u001b[1;36m\u001b[0m\n\u001b[1;33m    replace(t1(0))=5\u001b[0m\n\u001b[1;37m    ^\u001b[0m\n\u001b[1;31mSyntaxError\u001b[0m\u001b[1;31m:\u001b[0m cannot assign to function call here. Maybe you meant '==' instead of '='?\n"
     ]
    }
   ],
   "source": [
    "replace(t1(0))=5\n",
    "t1[0]=5\n"
   ]
  },
  {
   "cell_type": "markdown",
   "id": "52cc68e3-8f8c-4675-a7f5-4402e91db681",
   "metadata": {},
   "source": [
    "## 튜플 다루기"
   ]
  },
  {
   "cell_type": "code",
   "execution_count": 3,
   "id": "ef1038ec-a41d-486f-9511-fbaf8bf0f757",
   "metadata": {},
   "outputs": [
    {
     "name": "stdout",
     "output_type": "stream",
     "text": [
      "1\n",
      "2\n",
      "a\n",
      "b\n"
     ]
    }
   ],
   "source": [
    "# 인덱싱\n",
    "t1 = (1,2,'a','b')\n",
    "print(t1[0])\n",
    "print(t1[1])\n",
    "print(t1[2])\n",
    "print(t1[3])"
   ]
  },
  {
   "cell_type": "code",
   "execution_count": 8,
   "id": "dd1f0929-e120-4896-8c30-f736cd7b19f6",
   "metadata": {},
   "outputs": [
    {
     "data": {
      "text/plain": [
       "(1, 2)"
      ]
     },
     "execution_count": 8,
     "metadata": {},
     "output_type": "execute_result"
    }
   ],
   "source": [
    "#  슬라이싱\n",
    "t1[0:2]\n"
   ]
  },
  {
   "cell_type": "code",
   "execution_count": 18,
   "id": "b253c411-cf9c-4756-9482-d54721704445",
   "metadata": {},
   "outputs": [
    {
     "data": {
      "text/plain": [
       "('a', 'b')"
      ]
     },
     "execution_count": 18,
     "metadata": {},
     "output_type": "execute_result"
    }
   ],
   "source": [
    "t1[2:]"
   ]
  },
  {
   "cell_type": "code",
   "execution_count": 22,
   "id": "7976963c-aac5-4b4e-a07e-f5b7ccb82bc9",
   "metadata": {},
   "outputs": [
    {
     "data": {
      "text/plain": [
       "(1, 2, 'a', 'b', 3, 4)"
      ]
     },
     "execution_count": 22,
     "metadata": {},
     "output_type": "execute_result"
    }
   ],
   "source": [
    "t1 = (1,2,'a','b')\n",
    "t2 = (3,4)\n",
    "t3= t1+t2\n",
    "t3"
   ]
  },
  {
   "cell_type": "code",
   "execution_count": 23,
   "id": "43e0afe0-7085-48d8-831c-4d49c8f0efb5",
   "metadata": {},
   "outputs": [
    {
     "data": {
      "text/plain": [
       "(3, 4, 3, 4)"
      ]
     },
     "execution_count": 23,
     "metadata": {},
     "output_type": "execute_result"
    }
   ],
   "source": [
    "t3=t2*2\n",
    "t3"
   ]
  },
  {
   "cell_type": "code",
   "execution_count": 24,
   "id": "35a4c35a-cb72-46f6-8b16-a2390f3cec3a",
   "metadata": {},
   "outputs": [
    {
     "data": {
      "text/plain": [
       "tuple"
      ]
     },
     "execution_count": 24,
     "metadata": {},
     "output_type": "execute_result"
    }
   ],
   "source": [
    "                     type(t3)"
   ]
  },
  {
   "cell_type": "code",
   "execution_count": 25,
   "id": "93042982-b815-47b9-88f3-877834d8d498",
   "metadata": {},
   "outputs": [],
   "source": [
    "t4=1,2,3,4,'a'"
   ]
  },
  {
   "cell_type": "code",
   "execution_count": 26,
   "id": "5b2674ab-aae2-4bce-a995-f40ec9d1dd01",
   "metadata": {},
   "outputs": [
    {
     "data": {
      "text/plain": [
       "tuple"
      ]
     },
     "execution_count": 26,
     "metadata": {},
     "output_type": "execute_result"
    }
   ],
   "source": [
    "type(t4)"
   ]
  },
  {
   "cell_type": "code",
   "execution_count": null,
   "id": "ce9048d6-c41a-41ca-9da8-4bf911d8ac1e",
   "metadata": {},
   "outputs": [],
   "source": []
  }
 ],
 "metadata": {
  "kernelspec": {
   "display_name": "Python [conda env:base] *",
   "language": "python",
   "name": "conda-base-py"
  },
  "language_info": {
   "codemirror_mode": {
    "name": "ipython",
    "version": 3
   },
   "file_extension": ".py",
   "mimetype": "text/x-python",
   "name": "python",
   "nbconvert_exporter": "python",
   "pygments_lexer": "ipython3",
   "version": "3.13.5"
  }
 },
 "nbformat": 4,
 "nbformat_minor": 5
}
