{
 "cells": [
  {
   "cell_type": "markdown",
   "id": "27c3e2ff-1cd6-4de7-9d85-8435f19d9dd0",
   "metadata": {},
   "source": [
    "# 1.  변수란?"
   ]
  },
  {
   "cell_type": "code",
   "execution_count": 1,
   "id": "9bb310f0-0803-42be-9233-70210d7a71ef",
   "metadata": {},
   "outputs": [
    {
     "data": {
      "text/plain": [
       "1901382085952"
      ]
     },
     "execution_count": 1,
     "metadata": {},
     "output_type": "execute_result"
    }
   ],
   "source": [
    "a = [1,2,3]\n",
    "id(a)"
   ]
  },
  {
   "cell_type": "markdown",
   "id": "7dd156ef-ed4b-438f-908f-2333f7430b2a",
   "metadata": {},
   "source": [
    "# 리스트를 복사"
   ]
  },
  {
   "cell_type": "code",
   "execution_count": 2,
   "id": "c250c444-8ddd-433c-a8a8-5e77449ada43",
   "metadata": {},
   "outputs": [
    {
     "data": {
      "text/plain": [
       "[1, 2, 3]"
      ]
     },
     "execution_count": 2,
     "metadata": {},
     "output_type": "execute_result"
    }
   ],
   "source": [
    "b = a\n",
    "b"
   ]
  },
  {
   "cell_type": "code",
   "execution_count": 3,
   "id": "2fb76385-0f7b-412f-96b6-ddb717e26dbe",
   "metadata": {},
   "outputs": [
    {
     "data": {
      "text/plain": [
       "1901382085952"
      ]
     },
     "execution_count": 3,
     "metadata": {},
     "output_type": "execute_result"
    }
   ],
   "source": [
    "id(b)"
   ]
  },
  {
   "cell_type": "code",
   "execution_count": 4,
   "id": "10b8c99c-c7d7-48ec-99da-fe1ff8e51c51",
   "metadata": {},
   "outputs": [
    {
     "data": {
      "text/plain": [
       "1901382085952"
      ]
     },
     "execution_count": 4,
     "metadata": {},
     "output_type": "execute_result"
    }
   ],
   "source": [
    "id(a)"
   ]
  },
  {
   "cell_type": "code",
   "execution_count": 5,
   "id": "778dacfd-8e57-4fea-b4f8-aff10c7041d2",
   "metadata": {},
   "outputs": [
    {
     "data": {
      "text/plain": [
       "[1, 4, 3]"
      ]
     },
     "execution_count": 5,
     "metadata": {},
     "output_type": "execute_result"
    }
   ],
   "source": [
    "a[1]=4\n",
    "a"
   ]
  },
  {
   "cell_type": "code",
   "execution_count": 6,
   "id": "ad428870-3fd3-4800-8cf1-c8194ffb7d89",
   "metadata": {},
   "outputs": [
    {
     "data": {
      "text/plain": [
       "True"
      ]
     },
     "execution_count": 6,
     "metadata": {},
     "output_type": "execute_result"
    }
   ],
   "source": [
    "a is b"
   ]
  },
  {
   "cell_type": "markdown",
   "id": "17b4bce9-c54d-4b1c-812d-2bfe5a188a81",
   "metadata": {},
   "source": [
    "# 2. a를 복사한 b가 a와 다를려면"
   ]
  },
  {
   "cell_type": "code",
   "execution_count": 7,
   "id": "c59abd17-2b65-4d7c-bed1-6928b621d737",
   "metadata": {},
   "outputs": [
    {
     "data": {
      "text/plain": [
       "[1, 2, 3]"
      ]
     },
     "execution_count": 7,
     "metadata": {},
     "output_type": "execute_result"
    }
   ],
   "source": [
    "a = [1,2,3]\n",
    "b = a[:]\n",
    "b"
   ]
  },
  {
   "cell_type": "code",
   "execution_count": 8,
   "id": "e4f9c04b-b2da-44ef-872d-247e8df82b04",
   "metadata": {},
   "outputs": [
    {
     "data": {
      "text/plain": [
       "[1, 2, 3]"
      ]
     },
     "execution_count": 8,
     "metadata": {},
     "output_type": "execute_result"
    }
   ],
   "source": [
    "a[1] = 4\n",
    "b"
   ]
  },
  {
   "cell_type": "code",
   "execution_count": 9,
   "id": "4b6a12e9-1014-4599-9b91-41ca859e817d",
   "metadata": {},
   "outputs": [
    {
     "data": {
      "text/plain": [
       "[1, 4, 3]"
      ]
     },
     "execution_count": 9,
     "metadata": {},
     "output_type": "execute_result"
    }
   ],
   "source": [
    "a"
   ]
  },
  {
   "cell_type": "code",
   "execution_count": 10,
   "id": "dbde14cd-dc02-4e8b-93df-ae3af8b367d1",
   "metadata": {},
   "outputs": [],
   "source": [
    "# copy 모듈 이용하기\n",
    "from copy import copy\n",
    "a= [1,2,3]\n",
    "b=copy(a)"
   ]
  },
  {
   "cell_type": "code",
   "execution_count": 11,
   "id": "823356f0-9af2-4bf0-88fd-db9119a05d38",
   "metadata": {},
   "outputs": [
    {
     "data": {
      "text/plain": [
       "[1, 2, 3]"
      ]
     },
     "execution_count": 11,
     "metadata": {},
     "output_type": "execute_result"
    }
   ],
   "source": [
    "b"
   ]
  },
  {
   "cell_type": "code",
   "execution_count": 12,
   "id": "408a7def-1840-4fa9-b09f-53ca5887c9b4",
   "metadata": {},
   "outputs": [
    {
     "data": {
      "text/plain": [
       "False"
      ]
     },
     "execution_count": 12,
     "metadata": {},
     "output_type": "execute_result"
    }
   ],
   "source": [
    "b is a"
   ]
  },
  {
   "cell_type": "code",
   "execution_count": 13,
   "id": "26d5e41b-ae7b-4242-b869-855064a0381a",
   "metadata": {},
   "outputs": [
    {
     "name": "stdout",
     "output_type": "stream",
     "text": [
      "[1, 2, 5]\n",
      "[1, 2, 3]\n",
      "1901419823168\n",
      "1901419838208\n"
     ]
    }
   ],
   "source": [
    "a[2] =5 \n",
    "print(a)\n",
    "print(b)\n",
    "print(id(a))\n",
    "print(id(b))"
   ]
  },
  {
   "cell_type": "code",
   "execution_count": 14,
   "id": "1a0abf08-9cea-4325-9249-8417a951a103",
   "metadata": {},
   "outputs": [],
   "source": [
    "a =[1,2,3]\n",
    "b = a.copy()"
   ]
  },
  {
   "cell_type": "code",
   "execution_count": 15,
   "id": "b9b308a4-f5df-4b3a-ba97-1a4c88780c25",
   "metadata": {},
   "outputs": [
    {
     "data": {
      "text/plain": [
       "False"
      ]
     },
     "execution_count": 15,
     "metadata": {},
     "output_type": "execute_result"
    }
   ],
   "source": [
    "b is a"
   ]
  },
  {
   "cell_type": "code",
   "execution_count": 16,
   "id": "260b5898-79a6-4cd3-a906-a6b28dbc9a2a",
   "metadata": {},
   "outputs": [
    {
     "data": {
      "text/plain": [
       "[1, 2, 3]"
      ]
     },
     "execution_count": 16,
     "metadata": {},
     "output_type": "execute_result"
    }
   ],
   "source": [
    "b"
   ]
  },
  {
   "cell_type": "markdown",
   "id": "d559b844-3953-4c31-bf59-39b9d487c696",
   "metadata": {},
   "source": [
    "# 3. 변수 만드는 여러가지 방법"
   ]
  },
  {
   "cell_type": "code",
   "execution_count": 18,
   "id": "d022e368-a4b6-4c86-97b4-31033def3bf4",
   "metadata": {},
   "outputs": [
    {
     "name": "stdout",
     "output_type": "stream",
     "text": [
      "python\n",
      "life\n"
     ]
    }
   ],
   "source": [
    "# 튜플로 만들기\n",
    "a,b =('python','life')\n",
    "print(a)\n",
    "print(b)"
   ]
  },
  {
   "cell_type": "code",
   "execution_count": 19,
   "id": "93a5293a-9085-42ea-a282-d6442d7a03cf",
   "metadata": {},
   "outputs": [
    {
     "name": "stdout",
     "output_type": "stream",
     "text": [
      "python\n",
      "life\n"
     ]
    }
   ],
   "source": [
    "# 튜플은 괄호 생략가능\n",
    "a,b ='python','life'\n",
    "print(a)\n",
    "print(b)"
   ]
  },
  {
   "cell_type": "code",
   "execution_count": 20,
   "id": "2255eec1-c3fa-4aaf-a910-c2ce9346d205",
   "metadata": {},
   "outputs": [
    {
     "name": "stdout",
     "output_type": "stream",
     "text": [
      "python\n",
      "life\n"
     ]
    }
   ],
   "source": [
    "# 리스트로 변수 만들기\n",
    "a,b =['python','life']\n",
    "print(a)\n",
    "print(b)"
   ]
  },
  {
   "cell_type": "code",
   "execution_count": 21,
   "id": "e5f57f9e-8450-4a93-b2d5-db7dc1c0944e",
   "metadata": {},
   "outputs": [
    {
     "name": "stdout",
     "output_type": "stream",
     "text": [
      "python\n",
      "python\n",
      "1901281929536\n",
      "1901281929536\n"
     ]
    }
   ],
   "source": [
    "# 여러 개 변수에 같은 값 대입\n",
    "a = b ='python'\n",
    "print(a)\n",
    "print(b)\n",
    "print(id(a))\n",
    "print(id(b))"
   ]
  },
  {
   "cell_type": "code",
   "execution_count": 22,
   "id": "1ab2ed44-03b4-4746-a88a-e030588d707b",
   "metadata": {},
   "outputs": [
    {
     "name": "stdout",
     "output_type": "stream",
     "text": [
      "[5, 2, 3]\n",
      "[5, 2, 3]\n",
      "1901419910208\n",
      "1901419910208\n"
     ]
    }
   ],
   "source": [
    "a=b=[1,2,3]\n",
    "a[0] = 5\n",
    "print(a)\n",
    "print(b)\n",
    "print(id(a))\n",
    "print(id(b))"
   ]
  },
  {
   "cell_type": "code",
   "execution_count": 23,
   "id": "93289e90-7c68-423d-9929-fbd123932e83",
   "metadata": {},
   "outputs": [
    {
     "name": "stdout",
     "output_type": "stream",
     "text": [
      "5\n",
      "3\n"
     ]
    }
   ],
   "source": [
    "# 두 변수의 값 바꾸기\n",
    "a = 3\n",
    "b = 5\n",
    "a,b = b,a\n",
    "print(a)\n",
    "print(b)"
   ]
  },
  {
   "cell_type": "code",
   "execution_count": null,
   "id": "3ad7715b-6497-4e9a-b90b-febe96fcb6ec",
   "metadata": {},
   "outputs": [],
   "source": []
  }
 ],
 "metadata": {
  "kernelspec": {
   "display_name": "Python [conda env:base] *",
   "language": "python",
   "name": "conda-base-py"
  },
  "language_info": {
   "codemirror_mode": {
    "name": "ipython",
    "version": 3
   },
   "file_extension": ".py",
   "mimetype": "text/x-python",
   "name": "python",
   "nbconvert_exporter": "python",
   "pygments_lexer": "ipython3",
   "version": "3.13.5"
  }
 },
 "nbformat": 4,
 "nbformat_minor": 5
}
