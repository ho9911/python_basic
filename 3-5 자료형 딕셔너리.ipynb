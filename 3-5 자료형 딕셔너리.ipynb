{
 "cells": [
  {
   "cell_type": "markdown",
   "id": "7dd5b99d-e258-4873-81f5-5568751eab6c",
   "metadata": {},
   "source": [
    "## 2. 딕셔너리는 어떻게 만들까?"
   ]
  },
  {
   "cell_type": "code",
   "execution_count": 1,
   "id": "cf2e3f44-1d47-4968-b60f-14e38796a92c",
   "metadata": {},
   "outputs": [
    {
     "data": {
      "text/plain": [
       "dict"
      ]
     },
     "execution_count": 1,
     "metadata": {},
     "output_type": "execute_result"
    }
   ],
   "source": [
    "dic = {'name' : 'ho', 'pone' : '010-2265-9982', '생일':'1121' }\n",
    "type(dic)"
   ]
  },
  {
   "cell_type": "code",
   "execution_count": 2,
   "id": "484e4dd3-c468-4dfd-9ee1-83377986ceb5",
   "metadata": {},
   "outputs": [
    {
     "data": {
      "text/plain": [
       "'ho'"
      ]
     },
     "execution_count": 2,
     "metadata": {},
     "output_type": "execute_result"
    }
   ],
   "source": [
    "dic['name']"
   ]
  },
  {
   "cell_type": "code",
   "execution_count": 3,
   "id": "ae029a9b-9541-4606-b2e4-9a72d74ab98a",
   "metadata": {},
   "outputs": [
    {
     "data": {
      "text/plain": [
       "'010-2265-9982'"
      ]
     },
     "execution_count": 3,
     "metadata": {},
     "output_type": "execute_result"
    }
   ],
   "source": [
    "dic['pone']"
   ]
  },
  {
   "cell_type": "code",
   "execution_count": 4,
   "id": "fa9a09fc-00e8-4387-82c3-5891846fc160",
   "metadata": {},
   "outputs": [
    {
     "data": {
      "text/plain": [
       "{'a': [1, 2, 3]}"
      ]
     },
     "execution_count": 4,
     "metadata": {},
     "output_type": "execute_result"
    }
   ],
   "source": [
    "a = {'a' : [1,2,3]}\n",
    "a"
   ]
  },
  {
   "cell_type": "markdown",
   "id": "ee884859-4ebf-4d46-9ec3-339e81447303",
   "metadata": {},
   "source": [
    "## 딕셔너리 쌍 추가,삭제하기"
   ]
  },
  {
   "cell_type": "code",
   "execution_count": 5,
   "id": "963e191a-be65-468c-93da-04f20dd55dcd",
   "metadata": {},
   "outputs": [
    {
     "data": {
      "text/plain": [
       "{1: 'a', 2: 'b'}"
      ]
     },
     "execution_count": 5,
     "metadata": {},
     "output_type": "execute_result"
    }
   ],
   "source": [
    "a = { 1: 'a'}\n",
    "a[2] = 'b'\n",
    "a"
   ]
  },
  {
   "cell_type": "code",
   "execution_count": 6,
   "id": "f977f462-3dc5-4e26-bfff-130af3aaef45",
   "metadata": {},
   "outputs": [
    {
     "data": {
      "text/plain": [
       "{1: 'a', 2: 'b', 'name': 'ho'}"
      ]
     },
     "execution_count": 6,
     "metadata": {},
     "output_type": "execute_result"
    }
   ],
   "source": [
    "a['name'] = 'ho'\n",
    "a"
   ]
  },
  {
   "cell_type": "code",
   "execution_count": 7,
   "id": "7fba2feb-13ed-4ec5-bc65-58c042704744",
   "metadata": {},
   "outputs": [
    {
     "data": {
      "text/plain": [
       "{1: 'a', 2: 'b', 'name': 'ho', 3: [1, 2, 3]}"
      ]
     },
     "execution_count": 7,
     "metadata": {},
     "output_type": "execute_result"
    }
   ],
   "source": [
    "a[3]=[1,2,3]\n",
    "a"
   ]
  },
  {
   "cell_type": "code",
   "execution_count": 9,
   "id": "dd73225e-1979-4c3d-806d-aa5b8e686f4a",
   "metadata": {},
   "outputs": [
    {
     "data": {
      "text/plain": [
       "{1: 'a',\n",
       " 2: 'b',\n",
       " 'name': 'ho',\n",
       " 3: [1, 2, 3],\n",
       " 'hobby': {'a': [1, 2, 3], 'b': 'sport'}}"
      ]
     },
     "execution_count": 9,
     "metadata": {},
     "output_type": "execute_result"
    }
   ],
   "source": [
    "a['hobby']={'a': [1,2,3], 'b': 'sport'}\n",
    "a"
   ]
  },
  {
   "cell_type": "code",
   "execution_count": 10,
   "id": "695ca2be-2c2d-4fac-b8dd-8c581c772674",
   "metadata": {},
   "outputs": [
    {
     "data": {
      "text/plain": [
       "{1: 'a', 2: 'b', 'name': 'ho', 3: [1, 2, 3]}"
      ]
     },
     "execution_count": 10,
     "metadata": {},
     "output_type": "execute_result"
    }
   ],
   "source": [
    "del a ['hobby']\n",
    "a"
   ]
  },
  {
   "cell_type": "code",
   "execution_count": 11,
   "id": "7c641fd1-e054-4663-bb8b-b002071bbab5",
   "metadata": {},
   "outputs": [
    {
     "data": {
      "text/plain": [
       "{1: 'a', 'name': 'ho', 3: [1, 2, 3]}"
      ]
     },
     "execution_count": 11,
     "metadata": {},
     "output_type": "execute_result"
    }
   ],
   "source": [
    "del a[2]\n",
    "a"
   ]
  },
  {
   "cell_type": "markdown",
   "id": "f1d38f8e-78dc-48d5-999e-09b1e7e303c2",
   "metadata": {},
   "source": [
    "## 딕셔너리를 사용하는 방법"
   ]
  },
  {
   "cell_type": "code",
   "execution_count": 19,
   "id": "b8526606-f4fa-4ac1-849a-44bbb805cd3f",
   "metadata": {},
   "outputs": [
    {
     "name": "stdout",
     "output_type": "stream",
     "text": [
      "10\n",
      "99\n"
     ]
    }
   ],
   "source": [
    "grade = {'pey': 10 ,'jully' : 99}\n",
    "print(grade['pey'])\n",
    "print(grade['jully'])"
   ]
  },
  {
   "cell_type": "code",
   "execution_count": null,
   "id": "d9d16002-031b-44e4-a059-4d6c93a3483e",
   "metadata": {},
   "outputs": [],
   "source": []
  },
  {
   "cell_type": "code",
   "execution_count": 20,
   "id": "22430b5f-331b-40e6-a276-3c18dbc7adf5",
   "metadata": {},
   "outputs": [
    {
     "data": {
      "text/plain": [
       "{1: 'b'}"
      ]
     },
     "execution_count": 20,
     "metadata": {},
     "output_type": "execute_result"
    }
   ],
   "source": [
    "# 딕셔너리 만들때 주의사항 \n",
    "a= {1: 'a', 1:'b'}\n",
    "a\n",
    "# 키 값은 중복하면 안된다 중복하면 뒤에 값이 나옴"
   ]
  },
  {
   "cell_type": "code",
   "execution_count": 21,
   "id": "70cb8a31-dc6a-457a-9309-ea641ee1091f",
   "metadata": {},
   "outputs": [
    {
     "ename": "SyntaxError",
     "evalue": "invalid syntax (2003241054.py, line 2)",
     "output_type": "error",
     "traceback": [
      "\u001b[1;36m  Cell \u001b[1;32mIn[21], line 2\u001b[1;36m\u001b[0m\n\u001b[1;33m    a{ [1,2,3] : 1}\u001b[0m\n\u001b[1;37m     ^\u001b[0m\n\u001b[1;31mSyntaxError\u001b[0m\u001b[1;31m:\u001b[0m invalid syntax\n"
     ]
    }
   ],
   "source": [
    "# 키 값으론 리스트가 들어올수없다\n",
    "a{ [1,2,3] : 1}\n",
    "a"
   ]
  },
  {
   "cell_type": "markdown",
   "id": "ccc804b4-125c-4a76-a569-bf6d7eb8e743",
   "metadata": {},
   "source": [
    "## 딕셔너리 관련 함수"
   ]
  },
  {
   "cell_type": "code",
   "execution_count": 22,
   "id": "137fc34b-6dc5-4fc5-8ec2-9d19e1fe63f4",
   "metadata": {},
   "outputs": [],
   "source": [
    " # keys() : key 를 한곳에 모아서 리스트로 만들어줌"
   ]
  },
  {
   "cell_type": "code",
   "execution_count": 23,
   "id": "4ea257eb-139b-4137-a6c9-ad879c2dd18e",
   "metadata": {},
   "outputs": [
    {
     "data": {
      "text/plain": [
       "dict_keys(['name', 'pone', '생일'])"
      ]
     },
     "execution_count": 23,
     "metadata": {},
     "output_type": "execute_result"
    }
   ],
   "source": [
    "dic = {'name' : 'ho', 'pone' : '010-2265-9982', '생일':'1121' }\n",
    "dic.keys()"
   ]
  },
  {
   "cell_type": "code",
   "execution_count": 24,
   "id": "3a3b489b-3e0a-44c4-898a-65cec1849af2",
   "metadata": {},
   "outputs": [
    {
     "data": {
      "text/plain": [
       "dict_values(['ho', '010-2265-9982', '1121'])"
      ]
     },
     "execution_count": 24,
     "metadata": {},
     "output_type": "execute_result"
    }
   ],
   "source": [
    "dic.values()"
   ]
  },
  {
   "cell_type": "code",
   "execution_count": 25,
   "id": "6484d558-341d-4d29-afd3-578637ead21c",
   "metadata": {},
   "outputs": [
    {
     "name": "stdout",
     "output_type": "stream",
     "text": [
      "name\n",
      "pone\n",
      "생일\n"
     ]
    }
   ],
   "source": [
    "for k in dic.keys():\n",
    "    print(k)"
   ]
  },
  {
   "cell_type": "code",
   "execution_count": 26,
   "id": "bd6254b8-cd9d-4c9f-834d-fcac56c95dc0",
   "metadata": {},
   "outputs": [
    {
     "data": {
      "text/plain": [
       "dict_items([('name', 'ho'), ('pone', '010-2265-9982'), ('생일', '1121')])"
      ]
     },
     "execution_count": 26,
     "metadata": {},
     "output_type": "execute_result"
    }
   ],
   "source": [
    "# items() 키와 벨류 모두의 값을 얻을수있다\n",
    "dic.items()"
   ]
  },
  {
   "cell_type": "code",
   "execution_count": 28,
   "id": "97d892f2-a948-4e93-b0f5-521ef381bc1f",
   "metadata": {},
   "outputs": [
    {
     "data": {
      "text/plain": [
       "{}"
      ]
     },
     "execution_count": 28,
     "metadata": {},
     "output_type": "execute_result"
    }
   ],
   "source": [
    "# clear() 딕셔너리 아이템 모두 지우기\n",
    "dic.clear()\n",
    "dic"
   ]
  },
  {
   "cell_type": "code",
   "execution_count": 29,
   "id": "b79d75f7-7338-4d1c-87d0-8ac644183d32",
   "metadata": {},
   "outputs": [],
   "source": [
    "dic['name' ] = 'ho'"
   ]
  },
  {
   "cell_type": "code",
   "execution_count": 30,
   "id": "d58502c4-e288-4461-9ee3-c8ae2d869899",
   "metadata": {},
   "outputs": [
    {
     "data": {
      "text/plain": [
       "{'name': 'ho'}"
      ]
     },
     "execution_count": 30,
     "metadata": {},
     "output_type": "execute_result"
    }
   ],
   "source": [
    "dic"
   ]
  },
  {
   "cell_type": "code",
   "execution_count": 32,
   "id": "a3a24b0c-8e70-40ff-acdd-0d8ef4db8412",
   "metadata": {},
   "outputs": [
    {
     "data": {
      "text/plain": [
       "{'name': 'ho', 'pone': '010-2265-9982', '생일': '1121'}"
      ]
     },
     "execution_count": 32,
     "metadata": {},
     "output_type": "execute_result"
    }
   ],
   "source": [
    "dic = {'name' : 'ho', 'pone' : '010-2265-9982', '생일':'1121' }\n",
    "dic"
   ]
  },
  {
   "cell_type": "code",
   "execution_count": 34,
   "id": "61e35835-6030-4c0b-8bf4-4fe65a104ef5",
   "metadata": {},
   "outputs": [
    {
     "name": "stdout",
     "output_type": "stream",
     "text": [
      "ho\n"
     ]
    }
   ],
   "source": [
    "print(dic['name'])"
   ]
  },
  {
   "cell_type": "code",
   "execution_count": 35,
   "id": "1f131666-3b40-4dcc-8b28-9c1ee62f5683",
   "metadata": {},
   "outputs": [
    {
     "name": "stdout",
     "output_type": "stream",
     "text": [
      "내이름은ho\n"
     ]
    }
   ],
   "source": [
    "print(f\"내이름은{dic['name']}\")"
   ]
  },
  {
   "cell_type": "code",
   "execution_count": 36,
   "id": "9f8f9f31-cc79-4018-92e5-e1c20078b3f4",
   "metadata": {},
   "outputs": [
    {
     "name": "stdout",
     "output_type": "stream",
     "text": [
      "내 전화 번호는010-2265-9982\n"
     ]
    }
   ],
   "source": [
    "print(f\"내 전화 번호는{dic['pone']}\")"
   ]
  },
  {
   "cell_type": "code",
   "execution_count": 37,
   "id": "5fde1979-f4d8-4eb5-af4d-804c34b02330",
   "metadata": {},
   "outputs": [
    {
     "data": {
      "text/plain": [
       "'1121'"
      ]
     },
     "execution_count": 37,
     "metadata": {},
     "output_type": "execute_result"
    }
   ],
   "source": [
    "# get() 함수는 key 로 값얻기\n",
    "dic.get ('생일')"
   ]
  },
  {
   "cell_type": "code",
   "execution_count": 38,
   "id": "8483447f-1959-4e6a-83ed-37173ff77653",
   "metadata": {},
   "outputs": [
    {
     "data": {
      "text/plain": [
       "'ho'"
      ]
     },
     "execution_count": 38,
     "metadata": {},
     "output_type": "execute_result"
    }
   ],
   "source": [
    "dic.get('name')"
   ]
  },
  {
   "cell_type": "code",
   "execution_count": 39,
   "id": "8a73b488-15b4-470f-9f79-370859af7f67",
   "metadata": {},
   "outputs": [
    {
     "name": "stdout",
     "output_type": "stream",
     "text": [
      "None\n"
     ]
    }
   ],
   "source": [
    "print(dic.get('age'))"
   ]
  },
  {
   "cell_type": "code",
   "execution_count": 40,
   "id": "3fbf50b1-8d4a-42e3-95ba-cd22585203c2",
   "metadata": {},
   "outputs": [
    {
     "ename": "NameError",
     "evalue": "name 'age' is not defined",
     "output_type": "error",
     "traceback": [
      "\u001b[1;31m---------------------------------------------------------------------------\u001b[0m",
      "\u001b[1;31mNameError\u001b[0m                                 Traceback (most recent call last)",
      "Cell \u001b[1;32mIn[40], line 1\u001b[0m\n\u001b[1;32m----> 1\u001b[0m \u001b[38;5;28mprint\u001b[39m(a[age])\n",
      "\u001b[1;31mNameError\u001b[0m: name 'age' is not defined"
     ]
    }
   ],
   "source": [
    "print(a[age])"
   ]
  },
  {
   "cell_type": "code",
   "execution_count": 41,
   "id": "9c53a027-0ea7-48c9-b688-d1483c7edea5",
   "metadata": {},
   "outputs": [
    {
     "name": "stdout",
     "output_type": "stream",
     "text": [
      "25\n"
     ]
    }
   ],
   "source": [
    "print(dic.get('age',25))"
   ]
  },
  {
   "cell_type": "code",
   "execution_count": 43,
   "id": "948105c9-bdf0-4e7b-aa34-bb292bce7786",
   "metadata": {},
   "outputs": [],
   "source": [
    "dic= {'age' : 17}"
   ]
  },
  {
   "cell_type": "code",
   "execution_count": 44,
   "id": "faf82908-2689-49da-b9af-e9b5d7688904",
   "metadata": {},
   "outputs": [
    {
     "name": "stdout",
     "output_type": "stream",
     "text": [
      "17\n"
     ]
    }
   ],
   "source": [
    "print(dic.get('age',25))"
   ]
  },
  {
   "cell_type": "code",
   "execution_count": 45,
   "id": "e8f320ac-688d-4d4c-8cca-4ae0cb9621c8",
   "metadata": {},
   "outputs": [
    {
     "data": {
      "text/plain": [
       "{'age': 17}"
      ]
     },
     "execution_count": 45,
     "metadata": {},
     "output_type": "execute_result"
    }
   ],
   "source": [
    "dic"
   ]
  },
  {
   "cell_type": "code",
   "execution_count": 48,
   "id": "7407d662-0335-475f-8307-c266cd52ee54",
   "metadata": {},
   "outputs": [],
   "source": [
    "dic = {'name' : 'ho', 'pone' : '010-2265-9982', '생일':'1121','age' : 17}"
   ]
  },
  {
   "cell_type": "code",
   "execution_count": 47,
   "id": "bdf1f75d-c726-496a-8be2-17e621368a51",
   "metadata": {},
   "outputs": [
    {
     "data": {
      "text/plain": [
       "{'name': 'ho', 'pone': '010-2265-9982', '생일': '1121'}"
      ]
     },
     "execution_count": 47,
     "metadata": {},
     "output_type": "execute_result"
    }
   ],
   "source": [
    "dic"
   ]
  },
  {
   "cell_type": "code",
   "execution_count": 49,
   "id": "36c26ead-a65b-4482-9215-fba3ed1b3f45",
   "metadata": {},
   "outputs": [
    {
     "data": {
      "text/plain": [
       "True"
      ]
     },
     "execution_count": 49,
     "metadata": {},
     "output_type": "execute_result"
    }
   ],
   "source": [
    "# in key   key가 딕셔너리에 존재하는지 여부 확인 \n",
    "'name' in dic"
   ]
  },
  {
   "cell_type": "code",
   "execution_count": null,
   "id": "acf89afd-11ee-4b4a-92cc-b3cc798c49b1",
   "metadata": {},
   "outputs": [],
   "source": []
  }
 ],
 "metadata": {
  "kernelspec": {
   "display_name": "Python [conda env:base] *",
   "language": "python",
   "name": "conda-base-py"
  },
  "language_info": {
   "codemirror_mode": {
    "name": "ipython",
    "version": 3
   },
   "file_extension": ".py",
   "mimetype": "text/x-python",
   "name": "python",
   "nbconvert_exporter": "python",
   "pygments_lexer": "ipython3",
   "version": "3.13.5"
  }
 },
 "nbformat": 4,
 "nbformat_minor": 5
}
