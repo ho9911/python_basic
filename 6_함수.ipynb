{
 "cells": [
  {
   "cell_type": "markdown",
   "id": "f682c9d9-ec6a-484b-9a7b-9b68ac4593df",
   "metadata": {},
   "source": [
    "## 1. 파이썬 함수"
   ]
  },
  {
   "cell_type": "code",
   "execution_count": 3,
   "id": "ea61dfc3-61b5-43e0-ae64-eeeb66583670",
   "metadata": {},
   "outputs": [
    {
     "name": "stdout",
     "output_type": "stream",
     "text": [
      "None\n"
     ]
    }
   ],
   "source": [
    "def add(a,b):\n",
    "    return a+b\n",
    "\n",
    "a,b=3,4\n",
    "c= add(a,b)\n",
    "print(c)"
   ]
  },
  {
   "cell_type": "code",
   "execution_count": 2,
   "id": "d3b36efd-768e-415a-9dee-f141669c29bc",
   "metadata": {},
   "outputs": [
    {
     "name": "stdout",
     "output_type": "stream",
     "text": [
      "333\n"
     ]
    }
   ],
   "source": [
    "d = add(111,222)\n",
    "print(d)"
   ]
  },
  {
   "cell_type": "code",
   "execution_count": 4,
   "id": "479b0bf2-db54-41f3-9bfe-ab5c2ca0509a",
   "metadata": {},
   "outputs": [
    {
     "name": "stdout",
     "output_type": "stream",
     "text": [
      "6\n"
     ]
    }
   ],
   "source": [
    "# 1. 매개 변수가 O, 리턴값 O\n",
    "def minus (a,b):\n",
    "    return a-b\n",
    "\n",
    "a = minus(10,4)\n",
    "print(a)"
   ]
  },
  {
   "cell_type": "code",
   "execution_count": 5,
   "id": "620a4e92-fca9-4ce6-a9a6-41954d3c9fed",
   "metadata": {},
   "outputs": [
    {
     "name": "stdout",
     "output_type": "stream",
     "text": [
      "HI\n"
     ]
    }
   ],
   "source": [
    "# 2. 매개변수 X, 리턴값 O\n",
    "def say():\n",
    "    return \"HI\"\n",
    "\n",
    "print(say())"
   ]
  },
  {
   "cell_type": "code",
   "execution_count": 7,
   "id": "a1cb962c-16a8-47f8-a5f6-39f0a1669ab4",
   "metadata": {},
   "outputs": [
    {
     "name": "stdout",
     "output_type": "stream",
     "text": [
      "12, 24의 합은 36입니다.\n",
      "3, 4의 합은 7입니다.\n",
      "None\n"
     ]
    }
   ],
   "source": [
    "# 3. 매개 변수가 O, 리턴값 X\n",
    "def add(x,y):\n",
    "    print(\"%d, %d의 합은 %d입니다.\"%(x,y,x+y))\n",
    "\n",
    "add(12,24)\n",
    "\n",
    "a= add(3,4)\n",
    "print(a)\n"
   ]
  },
  {
   "cell_type": "code",
   "execution_count": 9,
   "id": "016228e9-a391-47cf-8caa-ebb905c756b1",
   "metadata": {},
   "outputs": [
    {
     "name": "stdout",
     "output_type": "stream",
     "text": [
      "Hi\n"
     ]
    }
   ],
   "source": [
    "# 4.매개 변수가 X, 리턴값 X\n",
    "def say():\n",
    "    print('Hi')\n",
    "\n",
    "say()"
   ]
  },
  {
   "cell_type": "code",
   "execution_count": 10,
   "id": "ab550a0c-92f1-4c53-9f8c-2126203d87e3",
   "metadata": {},
   "outputs": [
    {
     "name": "stdout",
     "output_type": "stream",
     "text": [
      "4\n",
      "4\n"
     ]
    }
   ],
   "source": [
    "# 키워드 매개변수\n",
    "def sub(a,b):\n",
    "    return a- b\n",
    "\n",
    "result = sub(7,3)\n",
    "print(result)\n",
    "\n",
    "result2 = sub(b=3, a=7)\n",
    "print(result2)"
   ]
  },
  {
   "cell_type": "code",
   "execution_count": 11,
   "id": "5df52a8a-b3c1-4f21-ba82-c7c95a353b7b",
   "metadata": {},
   "outputs": [
    {
     "ename": "SyntaxError",
     "evalue": "invalid syntax (888575941.py, line 1)",
     "output_type": "error",
     "traceback": [
      "\u001b[1;36m  Cell \u001b[1;32mIn[11], line 1\u001b[1;36m\u001b[0m\n\u001b[1;33m    리턴값 X 란 리턴을 적지않는것인가\u001b[0m\n\u001b[1;37m        ^\u001b[0m\n\u001b[1;31mSyntaxError\u001b[0m\u001b[1;31m:\u001b[0m invalid syntax\n"
     ]
    }
   ],
   "source": [
    "리턴값 X 란 리턴을 적지않는것인가\n",
    "매개변수 X란 내가 만든 변수에 값을 적지않는것인가"
   ]
  },
  {
   "cell_type": "code",
   "execution_count": 14,
   "id": "f96e416f-90e4-411e-8425-78b4ecc3c44d",
   "metadata": {},
   "outputs": [
    {
     "name": "stdout",
     "output_type": "stream",
     "text": [
      "15\n",
      "55\n"
     ]
    }
   ],
   "source": [
    "# 가변 매개 변수(*매개변수명)\n",
    "def add_many(*args):\n",
    "    result = 0\n",
    "    for i in args:\n",
    "        result += i\n",
    "    return result\n",
    "\n",
    "res1 = add_many(1,2,3,4,5)\n",
    "print(res1)\n",
    "\n",
    "res2 = add_many(1,2,3,4,5,6,7,8,9,10)\n",
    "print(res2)"
   ]
  },
  {
   "cell_type": "code",
   "execution_count": 19,
   "id": "20fac480-89e6-4225-8778-db218301294e",
   "metadata": {},
   "outputs": [
    {
     "name": "stdout",
     "output_type": "stream",
     "text": [
      "6\n",
      "6\n"
     ]
    }
   ],
   "source": [
    "# 덧셈, 곱셈 둘다 연산 가느안 함수\n",
    "def add_mul(choice,*args):\n",
    "    if choice == 'add':\n",
    "        result = 0\n",
    "        for i in args:\n",
    "            result += i\n",
    "    elif choice == 'mul':\n",
    "        result = 1\n",
    "        for i in args:\n",
    "            result *= i\n",
    "    return result\n",
    "res1 = add_mul('add',1,2,3)\n",
    "print(res1) \n",
    "res2 = add_mul('mul',1,2,3)\n",
    "print(res2)"
   ]
  },
  {
   "cell_type": "code",
   "execution_count": 20,
   "id": "d40386a6-8a7f-42c5-8654-9ee04b7c9a8f",
   "metadata": {},
   "outputs": [
    {
     "name": "stdout",
     "output_type": "stream",
     "text": [
      "Object `안되는가` not found.\n"
     ]
    }
   ],
   "source": [
    "가변 매개변수가 앞에있으면 안되는가?"
   ]
  },
  {
   "cell_type": "markdown",
   "id": "013da79e-64bb-4418-b9c4-2f663fe11b51",
   "metadata": {},
   "source": []
  },
  {
   "cell_type": "raw",
   "id": "6fbb632a-e7d7-4aba-ac25-e8b77f5c5dcf",
   "metadata": {},
   "source": []
  },
  {
   "cell_type": "code",
   "execution_count": 22,
   "id": "a499d089-9dce-4e36-80dc-d2dbe12c6366",
   "metadata": {},
   "outputs": [
    {
     "name": "stdout",
     "output_type": "stream",
     "text": [
      "{'a': 1}\n"
     ]
    }
   ],
   "source": [
    "def print_kwargs(**kwargs):\n",
    "    print(kwargs)\n",
    "print_kwargs(a=1)"
   ]
  },
  {
   "cell_type": "raw",
   "id": "67e030b1-a244-4983-8cc3-112270325c5a",
   "metadata": {},
   "source": [
    "print_kwargs(name='foo',age=3)"
   ]
  },
  {
   "cell_type": "code",
   "execution_count": 26,
   "id": "1361a905-de3d-48ec-9a7f-e7cfedeb9b9a",
   "metadata": {},
   "outputs": [
    {
     "name": "stdout",
     "output_type": "stream",
     "text": [
      "(7, 12)\n",
      "a+b=  7\n",
      "a*b=  12\n"
     ]
    }
   ],
   "source": [
    "#함수의 리턴값은 하나!\n",
    "def add_and_mul(a,b):\n",
    "    return a+b, a*b\n",
    "\n",
    "res = add_and_mul(3,4)\n",
    "print(res)\n",
    "\n",
    "res1,res2 = add_and_mul(3,4)\n",
    "print(\"a+b= \",res1)\n",
    "print(\"a*b= \",res2)"
   ]
  },
  {
   "cell_type": "code",
   "execution_count": null,
   "id": "4a53da9b-3d9c-4b5b-902e-e7b1cab73113",
   "metadata": {},
   "outputs": [],
   "source": []
  },
  {
   "cell_type": "code",
   "execution_count": 27,
   "id": "dcac7a86-8718-4ce8-9855-102794235145",
   "metadata": {},
   "outputs": [
    {
     "name": "stdout",
     "output_type": "stream",
     "text": [
      "5\n"
     ]
    }
   ],
   "source": [
    "#리턴은 값을 반환하고 종료하기 때문에 두개가 사용 될 수 없다\n",
    "def add_and_mul(a,b):\n",
    "    return a+b \n",
    "    return a*b\n",
    "res = add_and_mul(2,3)\n",
    "print(res)\n"
   ]
  },
  {
   "cell_type": "code",
   "execution_count": 28,
   "id": "43291913-4396-46ad-bdcf-1e736b37176a",
   "metadata": {},
   "outputs": [
    {
     "name": "stdout",
     "output_type": "stream",
     "text": [
      "나의 별명은 야호 입니다.\n"
     ]
    }
   ],
   "source": [
    "# return의 또 다른 쓰임새\n",
    "def say_nick(nick):\n",
    "    if nick == '바보':\n",
    "        return #리턴뒤에 값이 없어서 결과값이 나오지 않고 종료함\n",
    "    print(\"나의 별명은 %s 입니다.\"%nick)\n",
    "\n",
    "say_nick('야호')"
   ]
  },
  {
   "cell_type": "code",
   "execution_count": 33,
   "id": "200c4934-b38a-4438-8fa6-a263adc50a66",
   "metadata": {},
   "outputs": [
    {
     "name": "stdout",
     "output_type": "stream",
     "text": [
      "나의 이름은 이호입니다.\n",
      "나이는 27살 입니다.\n",
      "남자입니다.\n"
     ]
    }
   ],
   "source": [
    "# 매개변수에 초기값 설정\n",
    "def say_myself(name, age, man=True):\n",
    "    print(f\"나의 이름은 {name}입니다.\")\n",
    "    print(f\"나이는 {age}살 입니다.\")\n",
    "    if man:\n",
    "        print(\"남자입니다.\")\n",
    "    else:\n",
    "        print(\"여자입니다.\")\n",
    "\n",
    "#함수 호출\n",
    "say_myself(\"이호\",\"27\")\n",
    "# 기본값은 가장 뒤에 써주는 것 이 좋다"
   ]
  },
  {
   "cell_type": "code",
   "execution_count": 38,
   "id": "31b40c8d-b2cf-46f0-9d88-794a2d626f36",
   "metadata": {},
   "outputs": [
    {
     "name": "stdout",
     "output_type": "stream",
     "text": [
      "2\n"
     ]
    }
   ],
   "source": [
    "# 함수의 유효 범위 해결책 1. return 사용하기\n",
    "a = 1\n",
    "def vartest(x):\n",
    "    x= a+1\n",
    "    return x\n",
    "\n",
    "a = vartest(a) # 함수 실행하면 x값만 반환되고 a변수에 덮어씀\n",
    "print(a)"
   ]
  },
  {
   "cell_type": "code",
   "execution_count": 39,
   "id": "2f350655-b9bc-447c-ab50-467468e147cc",
   "metadata": {},
   "outputs": [
    {
     "name": "stdout",
     "output_type": "stream",
     "text": [
      "1\n"
     ]
    }
   ],
   "source": [
    "# 함수의 유효 범위\n",
    "a = 1\n",
    "def vartest(a):\n",
    "    a= a+1\n",
    "    \n",
    "\n",
    "vartest(a) # 아무것도 실행 안됨\n",
    "print(a) # 함수 밖에 있는 a출력됨"
   ]
  },
  {
   "cell_type": "code",
   "execution_count": 40,
   "id": "0a113028-67ab-4efb-a4b4-39ed7fe460f5",
   "metadata": {},
   "outputs": [
    {
     "name": "stdout",
     "output_type": "stream",
     "text": [
      "2\n"
     ]
    }
   ],
   "source": [
    "# 함수의 유효범위 => 2. global 명령어 사용하기\n",
    "a = 1\n",
    "def vartest():\n",
    "    global a # 함수 안에서 a는 전역변수로 변경됨\n",
    "    a += 1\n",
    "\n",
    "vartest()\n",
    "print(a)"
   ]
  },
  {
   "cell_type": "code",
   "execution_count": 41,
   "id": "6a5bf0dc-f223-440a-bd28-cbeedef859ed",
   "metadata": {},
   "outputs": [
    {
     "name": "stdout",
     "output_type": "stream",
     "text": [
      "7\n"
     ]
    }
   ],
   "source": [
    "#lambda 표현식(예약어) 사용 안하고 함수 선언\n",
    "def add(a,b):\n",
    "    return a+b\n",
    "print(add(3,4))\n"
   ]
  },
  {
   "cell_type": "code",
   "execution_count": 43,
   "id": "a01aaa8b-7c7e-4990-911d-af44009cbe7c",
   "metadata": {},
   "outputs": [
    {
     "name": "stdout",
     "output_type": "stream",
     "text": [
      "7\n"
     ]
    }
   ],
   "source": [
    "#lambda 표현식(예약어) 사용 \n",
    "add = lambda a,b :a+b\n",
    "print(add(3,4))"
   ]
  },
  {
   "cell_type": "markdown",
   "id": "0c82a060-f957-4ff3-a79b-c0f1dfabd6b5",
   "metadata": {},
   "source": [
    "## 2. 함수의 활용"
   ]
  },
  {
   "cell_type": "markdown",
   "id": "11c0fa0b-d98a-460f-b575-1881fae9db58",
   "metadata": {},
   "source": [
    "#### 1) 재귀 함수\n",
    ":내가 만든 함수를 다시 호출하는 것 (위에 썻던 함수 다시 사용하게 한다?)"
   ]
  },
  {
   "cell_type": "code",
   "execution_count": 51,
   "id": "dfed3037-3acc-42eb-a8ae-336d9e0476a1",
   "metadata": {},
   "outputs": [
    {
     "name": "stdout",
     "output_type": "stream",
     "text": [
      "5! =  120\n"
     ]
    }
   ],
   "source": [
    "# 반복문으로 팩토리얼 구하기\n",
    "def factorial(n):\n",
    "    output = 1\n",
    "    for i in range(1, n+1):\n",
    "        output *= i\n",
    "    return output\n",
    "\n",
    "print('5! = ',factorial(5))"
   ]
  },
  {
   "cell_type": "code",
   "execution_count": 49,
   "id": "c7d46e2a-8afd-4837-a64a-92c2e977870c",
   "metadata": {},
   "outputs": [
    {
     "name": "stdout",
     "output_type": "stream",
     "text": [
      "1! : 1\n"
     ]
    }
   ],
   "source": [
    "def factorial(n):\n",
    "    ouput = 1\n",
    "    for i in range(1, n+1):\n",
    "        ouput *= i\n",
    "    return ouput\n",
    "\n",
    "print('1! :', factorial(1))\n",
    "\n",
    "\n"
   ]
  },
  {
   "cell_type": "code",
   "execution_count": null,
   "id": "535b4836-af38-4a32-b0a5-a0f747dc390f",
   "metadata": {},
   "outputs": [],
   "source": []
  },
  {
   "cell_type": "code",
   "execution_count": 55,
   "id": "7502bb55-76c0-4e63-8558-c259a086d4d9",
   "metadata": {},
   "outputs": [
    {
     "name": "stdout",
     "output_type": "stream",
     "text": [
      "4\n",
      "원본 :  [[1, 2, 3], [4, [5, 6]], 7, [8, 9]]\n",
      "평탄화 :  [1, 2, 3, 4, [5, 6], 7, 8, 9]\n"
     ]
    }
   ],
   "source": [
    "# 반복문으로 리스트 평탄화\n",
    "def flatten(data):\n",
    "    output = []\n",
    "    for item in data:\n",
    "        if type(item) == list:\n",
    "            output += item\n",
    "        else:\n",
    "            output.append(item)\n",
    "    return output\n",
    "\n",
    "example = [[1,2,3], [4,[5,6]],7,[8,9]]\n",
    "print(len(example))\n",
    "print('원본 : ',example)\n",
    "print('평탄화 : ',flatten(example))"
   ]
  },
  {
   "cell_type": "code",
   "execution_count": 54,
   "id": "958dda1a-9ff2-49a1-a005-059bd27a7181",
   "metadata": {},
   "outputs": [
    {
     "name": "stdout",
     "output_type": "stream",
     "text": [
      "4\n",
      "원본 :  [[1, 2, 3], [4, [5, 6]], 7, [8, 9]]\n",
      "평탄화 :  [1, 2, 3, 4, 5, 6, 7, 8, 9]\n"
     ]
    }
   ],
   "source": [
    "# 재귀 함수 이용\n",
    "def flatten(data):\n",
    "    output = []\n",
    "    for item in data:\n",
    "        if type(item) == list:\n",
    "            output += flatten(item)\n",
    "        else:\n",
    "            output.append(item)\n",
    "    return output\n",
    "\n",
    "example = [[1,2,3], [4,[5,6]],7,[8,9]]\n",
    "print(len(example))\n",
    "print('원본 : ',example)\n",
    "print('평탄화 : ',flatten(example))"
   ]
  },
  {
   "cell_type": "code",
   "execution_count": null,
   "id": "d100c6fd-1774-4e59-95f5-b68ae636123a",
   "metadata": {},
   "outputs": [],
   "source": []
  },
  {
   "cell_type": "code",
   "execution_count": null,
   "id": "3269668a-1db1-4f30-8f82-5c12d7813403",
   "metadata": {},
   "outputs": [],
   "source": []
  },
  {
   "cell_type": "code",
   "execution_count": null,
   "id": "03ef1b53-b9cc-48b0-a7f4-57c22d9cf3ee",
   "metadata": {},
   "outputs": [],
   "source": []
  },
  {
   "cell_type": "code",
   "execution_count": null,
   "id": "0bad07c7-f2aa-419f-8b0c-2746f4e54369",
   "metadata": {},
   "outputs": [],
   "source": []
  },
  {
   "cell_type": "code",
   "execution_count": null,
   "id": "48aeb514-67bd-4aac-a611-81b6474ccfef",
   "metadata": {},
   "outputs": [],
   "source": []
  },
  {
   "cell_type": "code",
   "execution_count": null,
   "id": "e884bdc1-05e9-4f80-aae5-61278c8ad41e",
   "metadata": {},
   "outputs": [],
   "source": []
  }
 ],
 "metadata": {
  "kernelspec": {
   "display_name": "Python [conda env:base] *",
   "language": "python",
   "name": "conda-base-py"
  },
  "language_info": {
   "codemirror_mode": {
    "name": "ipython",
    "version": 3
   },
   "file_extension": ".py",
   "mimetype": "text/x-python",
   "name": "python",
   "nbconvert_exporter": "python",
   "pygments_lexer": "ipython3",
   "version": "3.13.5"
  }
 },
 "nbformat": 4,
 "nbformat_minor": 5
}
