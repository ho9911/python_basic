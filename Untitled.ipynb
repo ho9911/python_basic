{
 "cells": [
  {
   "cell_type": "markdown",
   "id": "1c24ca76-a7bf-4200-81cc-0cc2d4bdd567",
   "metadata": {},
   "source": [
    "# 5-3 반복문 for"
   ]
  },
  {
   "cell_type": "code",
   "execution_count": 1,
   "id": "8c7dbbdb-d01b-4bd8-b832-56b2f5522d01",
   "metadata": {},
   "outputs": [
    {
     "name": "stdout",
     "output_type": "stream",
     "text": [
      "one\n",
      "two\n",
      "three\n"
     ]
    }
   ],
   "source": [
    "test_list = ['one','two','three']\n",
    "for i in test_list:\n",
    "    print(i)"
   ]
  },
  {
   "cell_type": "code",
   "execution_count": 3,
   "id": "ab4025c0-15ec-4871-b9a0-be317a317b71",
   "metadata": {},
   "outputs": [
    {
     "name": "stdout",
     "output_type": "stream",
     "text": [
      "(5, 6)\n",
      "5\n"
     ]
    }
   ],
   "source": [
    "a= [ (1,2, ),(3,4),(5,6)]\n",
    "print(a[2])\n",
    "print(a[2][0])"
   ]
  },
  {
   "cell_type": "code",
   "execution_count": 4,
   "id": "d6344c11-484b-4ff3-ae77-b2ff3da0ff9e",
   "metadata": {},
   "outputs": [
    {
     "name": "stdout",
     "output_type": "stream",
     "text": [
      "3\n",
      "7\n",
      "11\n"
     ]
    }
   ],
   "source": [
    "for (first, last) in a:\n",
    "    print(first + last)"
   ]
  },
  {
   "cell_type": "code",
   "execution_count": 5,
   "id": "ed519425-26d3-4e17-9c8b-1b320aedf309",
   "metadata": {},
   "outputs": [
    {
     "name": "stdout",
     "output_type": "stream",
     "text": [
      "(1, 2)\n",
      "(3, 4)\n",
      "(5, 6)\n"
     ]
    }
   ],
   "source": [
    "for i in a:\n",
    "    print(i)"
   ]
  },
  {
   "cell_type": "code",
   "execution_count": 8,
   "id": "d7af5327-5f33-43bc-b283-2f8044a0f0b7",
   "metadata": {},
   "outputs": [
    {
     "name": "stdout",
     "output_type": "stream",
     "text": [
      "1 학생은 합격입니다.\n",
      "2 학생은 불합격입니다\n",
      "3 학생은 합격입니다.\n",
      "4 학생은 불합격입니다\n",
      "5 학생은 합격입니다.\n"
     ]
    }
   ],
   "source": [
    "a= [90,25,67,45,80]\n",
    "number=0\n",
    "for a in a:\n",
    "    number += 1\n",
    "    if a >= 60:\n",
    "        print(\"%d 학생은 합격입니다.\" %number)\n",
    "    else:\n",
    "        print(\"%d 학생은 불합격입니다\"%number)"
   ]
  },
  {
   "cell_type": "code",
   "execution_count": 9,
   "id": "563260d3-bd99-499e-93bf-f72e990377e3",
   "metadata": {},
   "outputs": [
    {
     "name": "stdout",
     "output_type": "stream",
     "text": [
      "1 학생 축하합니다 합격입니다.\n",
      "3 학생 축하합니다 합격입니다.\n",
      "5 학생 축하합니다 합격입니다.\n"
     ]
    }
   ],
   "source": [
    "a= [90,25,67,45,80]\n",
    "number=0\n",
    "for a in a:\n",
    "    number += 1\n",
    "    if a >= 60:\n",
    "        print(\"%d 학생 축하합니다 합격입니다.\" %number)\n",
    "    else:\n",
    "        pass"
   ]
  },
  {
   "cell_type": "code",
   "execution_count": 10,
   "id": "4d59df00-d249-431e-90d4-62d875d1a679",
   "metadata": {},
   "outputs": [
    {
     "name": "stdout",
     "output_type": "stream",
     "text": [
      "1 학생 축하합니다 합격입니다.\n",
      "3 학생 축하합니다 합격입니다.\n",
      "5 학생 축하합니다 합격입니다.\n"
     ]
    }
   ],
   "source": [
    "a = [90,25,67,45,80]\n",
    "number= 0\n",
    "for a in a:\n",
    "    number += 1\n",
    "    if a < 60:\n",
    "        continue\n",
    "    print(\"%d 학생 축하합니다 합격입니다.\" %number)"
   ]
  },
  {
   "cell_type": "markdown",
   "id": "2d3a3448-813f-4682-8b3e-a87b45f676e5",
   "metadata": {},
   "source": [
    "#### for문과 함께 자주 사용하는 range함수"
   ]
  },
  {
   "cell_type": "code",
   "execution_count": 11,
   "id": "d2257e04-b1a4-47a6-96fc-bf17e27c26b3",
   "metadata": {},
   "outputs": [
    {
     "data": {
      "text/plain": [
       "range(0, 10)"
      ]
     },
     "execution_count": 11,
     "metadata": {},
     "output_type": "execute_result"
    }
   ],
   "source": [
    "a = range(10) #range= 범위\n",
    "a"
   ]
  },
  {
   "cell_type": "code",
   "execution_count": 12,
   "id": "f5677d18-4da0-439e-ab0d-7f42d64028d3",
   "metadata": {},
   "outputs": [
    {
     "data": {
      "text/plain": [
       "[0, 1, 2, 3, 4, 5, 6, 7, 8, 9]"
      ]
     },
     "execution_count": 12,
     "metadata": {},
     "output_type": "execute_result"
    }
   ],
   "source": [
    "list(a)"
   ]
  },
  {
   "cell_type": "code",
   "execution_count": 20,
   "id": "a7f9c3a2-92e2-4d37-8d32-504d7164e04f",
   "metadata": {},
   "outputs": [
    {
     "name": "stdout",
     "output_type": "stream",
     "text": [
      "2 * 1 = 2\n",
      "2 * 2 = 4\n",
      "2 * 3 = 6\n",
      "2 * 4 = 8\n",
      "2 * 5 = 10\n",
      "2 * 6 = 12\n",
      "2 * 7 = 14\n",
      "2 * 8 = 16\n",
      "2 * 9 = 18\n",
      "3 * 1 = 3\n",
      "3 * 2 = 6\n",
      "3 * 3 = 9\n",
      "3 * 4 = 12\n",
      "3 * 5 = 15\n",
      "3 * 6 = 18\n",
      "3 * 7 = 21\n",
      "3 * 8 = 24\n",
      "3 * 9 = 27\n",
      "4 * 1 = 4\n",
      "4 * 2 = 8\n",
      "4 * 3 = 12\n",
      "4 * 4 = 16\n",
      "4 * 5 = 20\n",
      "4 * 6 = 24\n",
      "4 * 7 = 28\n",
      "4 * 8 = 32\n",
      "4 * 9 = 36\n",
      "5 * 1 = 5\n",
      "5 * 2 = 10\n",
      "5 * 3 = 15\n",
      "5 * 4 = 20\n",
      "5 * 5 = 25\n",
      "5 * 6 = 30\n",
      "5 * 7 = 35\n",
      "5 * 8 = 40\n",
      "5 * 9 = 45\n",
      "6 * 1 = 6\n",
      "6 * 2 = 12\n",
      "6 * 3 = 18\n",
      "6 * 4 = 24\n",
      "6 * 5 = 30\n",
      "6 * 6 = 36\n",
      "6 * 7 = 42\n",
      "6 * 8 = 48\n",
      "6 * 9 = 54\n",
      "7 * 1 = 7\n",
      "7 * 2 = 14\n",
      "7 * 3 = 21\n",
      "7 * 4 = 28\n",
      "7 * 5 = 35\n",
      "7 * 6 = 42\n",
      "7 * 7 = 49\n",
      "7 * 8 = 56\n",
      "7 * 9 = 63\n",
      "8 * 1 = 8\n",
      "8 * 2 = 16\n",
      "8 * 3 = 24\n",
      "8 * 4 = 32\n",
      "8 * 5 = 40\n",
      "8 * 6 = 48\n",
      "8 * 7 = 56\n",
      "8 * 8 = 64\n",
      "8 * 9 = 72\n",
      "9 * 1 = 9\n",
      "9 * 2 = 18\n",
      "9 * 3 = 27\n",
      "9 * 4 = 36\n",
      "9 * 5 = 45\n",
      "9 * 6 = 54\n",
      "9 * 7 = 63\n",
      "9 * 8 = 72\n",
      "9 * 9 = 81\n"
     ]
    }
   ],
   "source": [
    "for i in range(2,10):\n",
    "    for j in range(1,10):\n",
    "        print(\"%d * %d = %d\"%(i,j,i*j))"
   ]
  },
  {
   "cell_type": "markdown",
   "id": "d7aca6d4-af88-45b1-bd60-d40878f5983b",
   "metadata": {},
   "source": [
    "#### 리스트 컴프리헨션 (comprehension)"
   ]
  },
  {
   "cell_type": "code",
   "execution_count": 24,
   "id": "04e0eac6-c687-419d-b758-84ce6e3bbbe2",
   "metadata": {},
   "outputs": [
    {
     "name": "stdout",
     "output_type": "stream",
     "text": [
      "[3, 6, 9, 12]\n"
     ]
    }
   ],
   "source": [
    "a = [1,2,3,4]\n",
    "result = []\n",
    "for num in a:\n",
    "     result.append(num*3)\n",
    "print(result)"
   ]
  },
  {
   "cell_type": "code",
   "execution_count": 26,
   "id": "05d0dca7-9c7a-4b96-9324-1defd6d19f0b",
   "metadata": {},
   "outputs": [
    {
     "name": "stdout",
     "output_type": "stream",
     "text": [
      "[3, 6, 9, 12]\n"
     ]
    }
   ],
   "source": [
    "# 리스트 컴프리헨션으로 표현\n",
    "a = [1,2,3,4]\n",
    "result = [num*3 for num in a]\n",
    "print(result)"
   ]
  },
  {
   "cell_type": "code",
   "execution_count": 28,
   "id": "acfa5008-114e-4941-936f-1c9444559c9f",
   "metadata": {},
   "outputs": [
    {
     "name": "stdout",
     "output_type": "stream",
     "text": [
      "[6, 12]\n"
     ]
    }
   ],
   "source": [
    "a = [1,2,3,4]\n",
    "result = [ num*3 for num in a if num%2==0]\n",
    "print(result)"
   ]
  },
  {
   "cell_type": "markdown",
   "id": "349b3b33-a23a-449a-84ab-8466ca48ce13",
   "metadata": {},
   "source": [
    "\n",
    "## 3번 리스트 컴프리헨션"
   ]
  },
  {
   "cell_type": "markdown",
   "id": "4c380389-ba9b-4b91-a7d8-eed0709214dd",
   "metadata": {},
   "source": [
    "### 1) 기본구조 : 표현식 + for문"
   ]
  },
  {
   "cell_type": "code",
   "execution_count": 31,
   "id": "1c55ad68-0cc0-4ad8-97ce-97f716f35d19",
   "metadata": {},
   "outputs": [
    {
     "name": "stdout",
     "output_type": "stream",
     "text": [
      "[0, 0, 0, 0, 0]\n"
     ]
    }
   ],
   "source": [
    "# 표현식에 변수 또는 상수를 쓰는 경우\n",
    "n = 5\n",
    "result = [ 0 for i in range(n)]\n",
    "print(result)"
   ]
  },
  {
   "cell_type": "code",
   "execution_count": 30,
   "id": "c584ca8c-02cd-4cd6-8d2e-118b36c78123",
   "metadata": {},
   "outputs": [
    {
     "name": "stdout",
     "output_type": "stream",
     "text": [
      "[0, 1, 2, 3, 4, 5, 6, 7, 8, 9]\n"
     ]
    }
   ],
   "source": [
    "array= list(range(10))\n",
    "result = [n for n in array]\n",
    "print(result)"
   ]
  },
  {
   "cell_type": "code",
   "execution_count": 33,
   "id": "f2a6b6a4-245d-4007-bf7d-d0766b13a5fc",
   "metadata": {},
   "outputs": [
    {
     "name": "stdout",
     "output_type": "stream",
     "text": [
      "[0, 1, 4, 9, 16, 25, 36, 49, 64, 81]\n"
     ]
    }
   ],
   "source": [
    "#표현식에 연산식이나 함수를 쓰는 경우\n",
    "result = [n*n for n in array]\n",
    "print(result)"
   ]
  },
  {
   "cell_type": "code",
   "execution_count": 34,
   "id": "c10a588d-7643-4ac5-afdc-298b6b3b2e53",
   "metadata": {},
   "outputs": [
    {
     "name": "stdout",
     "output_type": "stream",
     "text": [
      "[4, 13, 6]\n"
     ]
    }
   ],
   "source": [
    "str_array = [ \"List\", \"Comprehension\", \"python\"]\n",
    "result = [ len(string) for string in str_array] \n",
    "print(result)\n",
    "\n",
    "\n",
    "\n",
    "\n"
   ]
  },
  {
   "cell_type": "markdown",
   "id": "84311fe0-c640-4466-b508-702c64b7d4e0",
   "metadata": {},
   "source": [
    "### 2) [표현식 + for문 + 조건문(if)]"
   ]
  },
  {
   "cell_type": "code",
   "execution_count": 38,
   "id": "e3382e87-f709-4ca9-844a-44597f826ea7",
   "metadata": {},
   "outputs": [
    {
     "name": "stdout",
     "output_type": "stream",
     "text": [
      "[0, 2, 4, 6, 8]\n"
     ]
    }
   ],
   "source": [
    "# if문 한 번 사용한 경우\n",
    "result = [n for n in range(10) if n%2==0]\n",
    "print(result)"
   ]
  },
  {
   "cell_type": "code",
   "execution_count": 37,
   "id": "3f5b8612-580d-4289-a635-46466bb1bae2",
   "metadata": {},
   "outputs": [
    {
     "name": "stdout",
     "output_type": "stream",
     "text": [
      "[24, 5, 2]\n"
     ]
    }
   ],
   "source": [
    "array = [-1,0,-4,24,5,-10,2]\n",
    "result = [n for n in array if n>0]\n",
    "print(result)"
   ]
  },
  {
   "cell_type": "code",
   "execution_count": 39,
   "id": "344d6b29-ee57-4449-9d9f-19509405e823",
   "metadata": {},
   "outputs": [
    {
     "name": "stdout",
     "output_type": "stream",
     "text": [
      "[3, 9, 15, 21, 27, 33, 39, 45]\n"
     ]
    }
   ],
   "source": [
    "# if문 여러번 사용\n",
    "result = [n for n in range(50) if n%3 == 0 if n%2 != 0]\n",
    "print(result)"
   ]
  },
  {
   "cell_type": "markdown",
   "id": "2512a8bf-b234-476d-9d18-338d8c968c54",
   "metadata": {},
   "source": [
    "### 2) [표현식 + 조건문(if) + for문]"
   ]
  },
  {
   "cell_type": "code",
   "execution_count": 40,
   "id": "b2364d35-c775-4663-8bfd-c573c8e133f7",
   "metadata": {},
   "outputs": [
    {
     "name": "stdout",
     "output_type": "stream",
     "text": [
      "[0, 0, 0, 24, 5, 0, 2]\n"
     ]
    }
   ],
   "source": [
    "array = [-1,0,-4,24,5,-10,2]\n",
    "result = [n if n>0 else 0 for n in array]\n",
    "print(result)"
   ]
  },
  {
   "cell_type": "code",
   "execution_count": 41,
   "id": "20b28045-9696-4114-bced-ca9927cae619",
   "metadata": {},
   "outputs": [
    {
     "name": "stdout",
     "output_type": "stream",
     "text": [
      "['even', 'odd', 'even', 'odd']\n"
     ]
    }
   ],
   "source": [
    "array= [0,1,2,3]\n",
    "result=['even' if n%2==0 else 'odd' for n in array]\n",
    "print(result)"
   ]
  },
  {
   "cell_type": "code",
   "execution_count": 42,
   "id": "5c241fb8-a0f5-44ef-94e5-6723de127a0e",
   "metadata": {},
   "outputs": [
    {
     "name": "stdout",
     "output_type": "stream",
     "text": [
      "[1, 2, 2, 4, 3, 6]\n",
      "[1, 2, 2, 4, 3, 6]\n"
     ]
    }
   ],
   "source": [
    "pos = []\n",
    "for i in range(1, 4) :\n",
    "    for j in range(1, 3) :\n",
    "        pos.append(i*j)\n",
    "print(pos)\n",
    "pos = [ i*j for i in range(1, 4) for j in range(1, 3) ]  \n",
    "print(pos)"
   ]
  },
  {
   "cell_type": "code",
   "execution_count": 44,
   "id": "8732522d-6c59-4605-abbf-d121614f6c4f",
   "metadata": {},
   "outputs": [
    {
     "name": "stdout",
     "output_type": "stream",
     "text": [
      "[[0, 0, 0], [0, 0, 0], [0, 0, 0]]\n"
     ]
    }
   ],
   "source": [
    "# 2차원 배열 만들기\n",
    "result = [[0 for i in range(3)] for j in range(3)]\n",
    "print(result)"
   ]
  },
  {
   "cell_type": "code",
   "execution_count": null,
   "id": "3fa264ec-3b2e-42a9-baf2-6332fe2e5144",
   "metadata": {},
   "outputs": [],
   "source": []
  },
  {
   "cell_type": "code",
   "execution_count": null,
   "id": "34c55887-4cb0-466a-9073-46855b0d1445",
   "metadata": {},
   "outputs": [],
   "source": []
  }
 ],
 "metadata": {
  "kernelspec": {
   "display_name": "Python [conda env:base] *",
   "language": "python",
   "name": "conda-base-py"
  },
  "language_info": {
   "codemirror_mode": {
    "name": "ipython",
    "version": 3
   },
   "file_extension": ".py",
   "mimetype": "text/x-python",
   "name": "python",
   "nbconvert_exporter": "python",
   "pygments_lexer": "ipython3",
   "version": "3.13.5"
  }
 },
 "nbformat": 4,
 "nbformat_minor": 5
}
