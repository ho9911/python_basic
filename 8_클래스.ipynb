{
 "cells": [
  {
   "cell_type": "markdown",
   "id": "f85a74b4-762e-40a7-9a56-bf8a9f270a71",
   "metadata": {},
   "source": [
    "## 1. 클래스는 왜 필요한가?"
   ]
  },
  {
   "cell_type": "code",
   "execution_count": 1,
   "id": "09420b01-c86b-4aa9-bf0f-aa505b8a8c29",
   "metadata": {},
   "outputs": [
    {
     "name": "stdout",
     "output_type": "stream",
     "text": [
      "3\n",
      "7\n"
     ]
    }
   ],
   "source": [
    "# 함수로 계산기 만들기\n",
    "result = 0\n",
    "\n",
    "def add(num):\n",
    "    global result\n",
    "    result += num\n",
    "    return result\n",
    "\n",
    "print(add(3)) # 0+3 =3\n",
    "print(add(4)) # 3+4 =7"
   ]
  },
  {
   "cell_type": "code",
   "execution_count": 3,
   "id": "1927e176-731c-4cbb-909b-21fc58713820",
   "metadata": {},
   "outputs": [
    {
     "name": "stdout",
     "output_type": "stream",
     "text": [
      "10\n",
      "14\n",
      "19\n",
      "25\n"
     ]
    }
   ],
   "source": [
    "# 계산기 두개로 각각 계산\n",
    "res1 = 0\n",
    "res2 = 0\n",
    "def add1(num):\n",
    "    global res1\n",
    "    res1 += num\n",
    "    return res1\n",
    "\n",
    "def add2(num):\n",
    "    global res2\n",
    "    res += num\n",
    "    return res2\n",
    "\n",
    "print(add(3))\n",
    "print(add(4))\n",
    "print(add(5))\n",
    "print(add(6))"
   ]
  },
  {
   "cell_type": "code",
   "execution_count": 6,
   "id": "b6ad8803-8b0a-4752-aee9-185e4d6605ab",
   "metadata": {},
   "outputs": [
    {
     "name": "stdout",
     "output_type": "stream",
     "text": [
      "3\n",
      "7\n",
      "5\n",
      "11\n"
     ]
    }
   ],
   "source": [
    "# 클래스로 여러개 계산기 만들기\n",
    "class Calculater:\n",
    "    def __init__(self):\n",
    "        self.result = 0 #계산기 초기값\n",
    "\n",
    "    def add(self, num):\n",
    "        self.result += num\n",
    "        return self.result\n",
    "\n",
    "cal1 = Calculater() #인스턴스 계산기1\n",
    "cal2 = Calculater() #인스턴스 계산기2\n",
    "\n",
    "print(cal1.add(3))\n",
    "print(cal1.add(4))\n",
    "print(cal2.add(5))\n",
    "print(cal2.add(6))"
   ]
  },
  {
   "cell_type": "code",
   "execution_count": 10,
   "id": "27389180-a529-4522-9330-117cc626ea49",
   "metadata": {},
   "outputs": [
    {
     "name": "stdout",
     "output_type": "stream",
     "text": [
      "10\n",
      "13\n",
      "8\n",
      "--------------------\n",
      "-5\n",
      "5\n"
     ]
    }
   ],
   "source": [
    "# 더하기 / 빼기 기능이 있는 계산기의 설계도(class)\n",
    "class Calculater:\n",
    "    def __init__(self):\n",
    "        self.result = 0 #계산기 초기값\n",
    "\n",
    "    def add(self, num):\n",
    "        self.result += num\n",
    "        return self.result\n",
    "\n",
    "    def sub(self, num):\n",
    "        self.result -= num\n",
    "        return self.result\n",
    "\n",
    "cal1 = Calculater()\n",
    "print(cal1.add(10))\n",
    "print(cal1.add(3))\n",
    "print(cal1.sub(5))\n",
    "\n",
    "print(\"-\"*20)\n",
    "cal2 = Calculater()\n",
    "print(cal2.sub(5))\n",
    "print(cal2.add(10))"
   ]
  },
  {
   "cell_type": "markdown",
   "id": "de94d4dd-be3b-495f-b6a7-a45cc827903b",
   "metadata": {},
   "source": [
    "## 3.사칙연산 클래스 만들기\n"
   ]
  },
  {
   "cell_type": "code",
   "execution_count": 11,
   "id": "eebf42a8-dd45-4f59-8e30-157978055eb4",
   "metadata": {},
   "outputs": [],
   "source": [
    "class FourCal:\n",
    "    pass"
   ]
  },
  {
   "cell_type": "code",
   "execution_count": 12,
   "id": "6a1ad52f-35d1-454c-862a-292910a7d6bb",
   "metadata": {},
   "outputs": [
    {
     "data": {
      "text/plain": [
       "__main__.FourCal"
      ]
     },
     "execution_count": 12,
     "metadata": {},
     "output_type": "execute_result"
    }
   ],
   "source": [
    "a = FourCal()\n",
    "type(a)"
   ]
  },
  {
   "cell_type": "code",
   "execution_count": 13,
   "id": "6e11da61-af9f-4f75-9ec1-aa23c9424fdd",
   "metadata": {},
   "outputs": [],
   "source": [
    "class FourCal:\n",
    "    def setdata(self, first, second):\n",
    "        self.first = first\n",
    "        self.second = second\n",
    "        "
   ]
  },
  {
   "cell_type": "code",
   "execution_count": 14,
   "id": "71422d0d-1e85-4b23-818e-d30fa2c9bc1d",
   "metadata": {},
   "outputs": [],
   "source": [
    "a = FourCal() #인스턴스 생성 \n",
    "a.setdata(3,4)\n"
   ]
  },
  {
   "cell_type": "code",
   "execution_count": 22,
   "id": "25718791-8a67-4395-ab2f-093f543c2877",
   "metadata": {},
   "outputs": [
    {
     "name": "stdout",
     "output_type": "stream",
     "text": [
      "6\n",
      "2\n",
      "8\n",
      "2.0\n",
      "--------------------\n",
      "11\n",
      "-5\n",
      "24\n",
      "0.375\n"
     ]
    }
   ],
   "source": [
    "class FourCal:\n",
    "    def setdata(self, first, second):\n",
    "        self.first = first\n",
    "        self.second = second\n",
    "    def add(self):\n",
    "        result = self.first + self.second\n",
    "        return result\n",
    "\n",
    "    def sub(self):\n",
    "        result = self.first - self.second\n",
    "        return result\n",
    "    \n",
    "    def mul(self):\n",
    "        result = self.first * self.second\n",
    "        return result\n",
    "    \n",
    "    def div(self):\n",
    "        result = self.first / self.second\n",
    "        return result\n",
    "\n",
    "cal1 = FourCal()\n",
    "cal2 = FourCal()\n",
    "\n",
    "cal1.setdata(4,2)\n",
    "cal2.setdata(3,8)\n",
    "\n",
    "print(cal1.add())\n",
    "print(cal1.sub())\n",
    "print(cal1.mul())\n",
    "print(cal1.div())\n",
    "print(\"-\"*20)\n",
    "print(cal2.add())\n",
    "print(cal2.sub())\n",
    "print(cal2.mul())\n",
    "print(cal2.div())"
   ]
  },
  {
   "cell_type": "markdown",
   "id": "7098fbaa-52d4-4b08-9c07-3b635a79aafb",
   "metadata": {},
   "source": [
    "## 4.생성자"
   ]
  },
  {
   "cell_type": "code",
   "execution_count": 34,
   "id": "08a5b94a-f358-404f-a517-f01ca693a9e5",
   "metadata": {},
   "outputs": [],
   "source": [
    "class FourCal:\n",
    "    def __init__(self, first, second):\n",
    "        self.first = first\n",
    "        self.second = second\n",
    "    def add(self):\n",
    "        result = self.first + self.second\n",
    "        return result\n",
    "\n",
    "    def sub(self):\n",
    "        result = self.first - self.second\n",
    "        return result\n",
    "    \n",
    "    def mul(self):\n",
    "        result = self.first * self.second\n",
    "        return result\n",
    "    \n",
    "    def div(self):\n",
    "        result = self.first / self.second\n",
    "        return result"
   ]
  },
  {
   "cell_type": "code",
   "execution_count": 35,
   "id": "ce72a20d-63e2-4019-a19e-8896dd6d0ad8",
   "metadata": {},
   "outputs": [],
   "source": [
    "cal1 = FourCal(15,3)\n"
   ]
  },
  {
   "cell_type": "code",
   "execution_count": 36,
   "id": "51d5dc80-a66a-4fa8-aba1-98a5b1b1d656",
   "metadata": {},
   "outputs": [
    {
     "data": {
      "text/plain": [
       "15"
      ]
     },
     "execution_count": 36,
     "metadata": {},
     "output_type": "execute_result"
    }
   ],
   "source": [
    "cal1.first"
   ]
  },
  {
   "cell_type": "code",
   "execution_count": 37,
   "id": "a633afbb-686a-43fc-a841-efde5796f8d8",
   "metadata": {},
   "outputs": [
    {
     "data": {
      "text/plain": [
       "3"
      ]
     },
     "execution_count": 37,
     "metadata": {},
     "output_type": "execute_result"
    }
   ],
   "source": [
    "cal1.second"
   ]
  },
  {
   "cell_type": "code",
   "execution_count": 38,
   "id": "7e67090d-9ab4-4dd9-800e-e96dcb00071d",
   "metadata": {},
   "outputs": [
    {
     "name": "stdout",
     "output_type": "stream",
     "text": [
      "15 + 3 =  18\n",
      "15 - 3 =  12\n",
      "15 * 3 =  45\n",
      "15 / 3 =  5.0\n"
     ]
    }
   ],
   "source": [
    "print('15 + 3 = ',cal1.add())\n",
    "print('15 - 3 = ',cal1.sub())\n",
    "print('15 * 3 = ',cal1.mul())\n",
    "print('15 / 3 = ',cal1.div())"
   ]
  },
  {
   "cell_type": "markdown",
   "id": "e45ed060-438c-47b3-b0e1-7365e03fc03e",
   "metadata": {},
   "source": [
    "## 5. 클래스 상속"
   ]
  },
  {
   "cell_type": "code",
   "execution_count": 43,
   "id": "bfd3d8fc-3b50-47e6-b1d1-e6ae4146d896",
   "metadata": {},
   "outputs": [],
   "source": [
    "class MoreFourCal(FourCal):\n",
    "    pass"
   ]
  },
  {
   "cell_type": "code",
   "execution_count": null,
   "id": "e4948718-68b1-4d12-a6b4-ca9b39dd95e1",
   "metadata": {},
   "outputs": [],
   "source": [
    "cal1 = "
   ]
  },
  {
   "cell_type": "code",
   "execution_count": 44,
   "id": "90cd7485-7acc-47a0-82f7-7271a3e9a892",
   "metadata": {},
   "outputs": [
    {
     "name": "stdout",
     "output_type": "stream",
     "text": [
      "6\n",
      "2\n",
      "8\n",
      "2.0\n",
      "16\n"
     ]
    }
   ],
   "source": [
    "# 기본기능은 상속 받았고 , morefourcal만의 기능을 추가\n",
    "class MoreFourCal(FourCal):\n",
    "    def pow(self):\n",
    "        result = self.first ** self.second\n",
    "        return result\n",
    "\n",
    "cal2 = MoreFourCal(4,2)\n",
    "print(cal2.add())\n",
    "print(cal2.sub())\n",
    "print(cal2.mul())\n",
    "print(cal2.div())\n",
    "print(cal2.pow())"
   ]
  },
  {
   "cell_type": "code",
   "execution_count": 49,
   "id": "0af79583-2d1c-44d3-96ec-86c64c164183",
   "metadata": {},
   "outputs": [
    {
     "name": "stdout",
     "output_type": "stream",
     "text": [
      "4\n",
      "4\n",
      "0\n"
     ]
    },
    {
     "ename": "ZeroDivisionError",
     "evalue": "division by zero",
     "output_type": "error",
     "traceback": [
      "\u001b[1;31m---------------------------------------------------------------------------\u001b[0m",
      "\u001b[1;31mZeroDivisionError\u001b[0m                         Traceback (most recent call last)",
      "Cell \u001b[1;32mIn[49], line 5\u001b[0m\n\u001b[0;32m      3\u001b[0m \u001b[38;5;28mprint\u001b[39m(cal3\u001b[38;5;241m.\u001b[39msub())\n\u001b[0;32m      4\u001b[0m \u001b[38;5;28mprint\u001b[39m(cal3\u001b[38;5;241m.\u001b[39mmul())\n\u001b[1;32m----> 5\u001b[0m \u001b[38;5;28mprint\u001b[39m(cal3\u001b[38;5;241m.\u001b[39mdiv())\n",
      "Cell \u001b[1;32mIn[34], line 18\u001b[0m, in \u001b[0;36mFourCal.div\u001b[1;34m(self)\u001b[0m\n\u001b[0;32m     17\u001b[0m \u001b[38;5;28;01mdef\u001b[39;00m\u001b[38;5;250m \u001b[39m\u001b[38;5;21mdiv\u001b[39m(\u001b[38;5;28mself\u001b[39m):\n\u001b[1;32m---> 18\u001b[0m     result \u001b[38;5;241m=\u001b[39m \u001b[38;5;28mself\u001b[39m\u001b[38;5;241m.\u001b[39mfirst \u001b[38;5;241m/\u001b[39m \u001b[38;5;28mself\u001b[39m\u001b[38;5;241m.\u001b[39msecond\n\u001b[0;32m     19\u001b[0m     \u001b[38;5;28;01mreturn\u001b[39;00m result\n",
      "\u001b[1;31mZeroDivisionError\u001b[0m: division by zero"
     ]
    }
   ],
   "source": [
    "cal3 = MoreFourCal(4,0)\n",
    "print(cal3.add())\n",
    "print(cal3.sub())\n",
    "print(cal3.mul())\n",
    "print(cal3.div())"
   ]
  },
  {
   "cell_type": "markdown",
   "id": "2c835b3b-b32d-4d8e-8a4c-b3498f316206",
   "metadata": {},
   "source": [
    "## 6. 메서드 오버라이딩"
   ]
  },
  {
   "cell_type": "code",
   "execution_count": 45,
   "id": "a6bf09a1-f241-4153-8b25-0a0810f4659c",
   "metadata": {},
   "outputs": [],
   "source": [
    "class SafeFourCal(FourCal):\n",
    "    # 상속받은 메서드 재정의(over riding)\n",
    "    def div(self):\n",
    "        if self.second == 0:\n",
    "            return 0\n",
    "        else:\n",
    "            result = self.first / self.second\n",
    "            return result\n",
    "        \n",
    "        "
   ]
  },
  {
   "cell_type": "code",
   "execution_count": 46,
   "id": "60ee2ea2-df82-4cbc-a290-c4be91a2d29f",
   "metadata": {},
   "outputs": [],
   "source": [
    "calc = SafeFourCal(4,0)"
   ]
  },
  {
   "cell_type": "code",
   "execution_count": 47,
   "id": "eb4d17a7-a13e-4496-a850-08f7f1667d76",
   "metadata": {},
   "outputs": [
    {
     "name": "stdout",
     "output_type": "stream",
     "text": [
      "0\n"
     ]
    }
   ],
   "source": [
    "print(calc.div())"
   ]
  },
  {
   "cell_type": "markdown",
   "id": "bd043ec0-2d4d-4b7f-b68f-f7f218ed463d",
   "metadata": {},
   "source": [
    "## 7. 클래스 변수"
   ]
  },
  {
   "cell_type": "code",
   "execution_count": 50,
   "id": "04b709d9-1ad3-4d13-9afe-cadfa06ae007",
   "metadata": {},
   "outputs": [],
   "source": [
    "class Family:\n",
    "    lastname = '김'"
   ]
  },
  {
   "cell_type": "code",
   "execution_count": 51,
   "id": "5650e920-c077-43e0-bcc2-5be1823838e5",
   "metadata": {},
   "outputs": [
    {
     "data": {
      "text/plain": [
       "'김'"
      ]
     },
     "execution_count": 51,
     "metadata": {},
     "output_type": "execute_result"
    }
   ],
   "source": [
    "Family.lastname"
   ]
  },
  {
   "cell_type": "code",
   "execution_count": 53,
   "id": "87ba0144-2334-4fa0-8850-8768fb1d7a1a",
   "metadata": {},
   "outputs": [
    {
     "name": "stdout",
     "output_type": "stream",
     "text": [
      "김\n",
      "김\n"
     ]
    }
   ],
   "source": [
    "a = Family()\n",
    "b = Family()\n",
    "print(a.lastname)\n",
    "print(b.lastname)"
   ]
  },
  {
   "cell_type": "code",
   "execution_count": 57,
   "id": "179d653b-a789-484e-9f83-9316258a0269",
   "metadata": {},
   "outputs": [],
   "source": [
    "# 클래스 변수 변경\n",
    "Family.lastname = '박'\n",
    "# Family.lastname => 클래스 변수, 클래스 변수를 벼ㅑㄴ경하면 인스턴스 변수도 변경"
   ]
  },
  {
   "cell_type": "code",
   "execution_count": 55,
   "id": "b95ee65c-bc6f-4518-953d-81efcf04d5fc",
   "metadata": {},
   "outputs": [
    {
     "name": "stdout",
     "output_type": "stream",
     "text": [
      "박\n",
      "박\n"
     ]
    }
   ],
   "source": [
    "print(a.lastname)\n",
    "print(b.lastname)"
   ]
  },
  {
   "cell_type": "code",
   "execution_count": 58,
   "id": "1ced0c86-f590-4721-b635-01bd4cfa6c8a",
   "metadata": {},
   "outputs": [
    {
     "name": "stdout",
     "output_type": "stream",
     "text": [
      "최\n",
      "박\n"
     ]
    }
   ],
   "source": [
    "# 인스턴스 변수만 변경\n",
    "a.lastname = '최'\n",
    "print(a.lastname) # 인스턴스변수를 변경하면 해당 인스턴스 변수만 변경됨\n",
    "print(b.lastname)"
   ]
  },
  {
   "cell_type": "code",
   "execution_count": null,
   "id": "fc489d5b-eaea-4d6f-8a32-07cfaf7edbf1",
   "metadata": {},
   "outputs": [],
   "source": []
  }
 ],
 "metadata": {
  "kernelspec": {
   "display_name": "Python [conda env:base] *",
   "language": "python",
   "name": "conda-base-py"
  },
  "language_info": {
   "codemirror_mode": {
    "name": "ipython",
    "version": 3
   },
   "file_extension": ".py",
   "mimetype": "text/x-python",
   "name": "python",
   "nbconvert_exporter": "python",
   "pygments_lexer": "ipython3",
   "version": "3.13.5"
  }
 },
 "nbformat": 4,
 "nbformat_minor": 5
}
